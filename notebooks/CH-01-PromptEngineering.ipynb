{
 "cells": [
  {
   "cell_type": "markdown",
   "metadata": {
    "nteract": {
     "transient": {
      "deleting": false
     }
    }
   },
   "source": [
    "# Reto 01 - Prompt Engineering"
   ]
  },
  {
   "cell_type": "markdown",
   "metadata": {
    "nteract": {
     "transient": {
      "deleting": false
     }
    }
   },
   "source": [
    "Consejo rápido: Para ver la Tabla de Contenidos de este Notebook en VS Code, en la pestaña \"Explorer\", expande la sección \"Outline\"."
   ]
  },
  {
   "cell_type": "markdown",
   "metadata": {
    "nteract": {
     "transient": {
      "deleting": false
     }
    }
   },
   "source": [
    "## 1. Experimentación de Parámetros\n",
    "Primero configuraremos el Desafío. Carga la clave API y las bibliotecas de Python relevantes utilizando las celdas a continuación."
   ]
  },
  {
   "cell_type": "markdown",
   "metadata": {
    "nteract": {
     "transient": {
      "deleting": false
     }
    }
   },
   "source": [
    "### 1.1 Preparación\n",
    "#### 1.1.1 Configuración del Entorno\n"
   ]
  },
  {
   "cell_type": "markdown",
   "metadata": {
    "nteract": {
     "transient": {
      "deleting": false
     }
    }
   },
   "source": [
    "#### Crea o actualiza el archivo de entorno llamado \".env\"\n",
    "Hemos incluido un archivo de entorno de ejemplo para tu referencia. Puedes encontrar el archivo `.env.sample` en la raiz de este repositorio o en la carpeta `Student/Resources` dentro de la documentación del desafío. Siéntete libre de hacer las modificaciones necesarias y renombra el archivo como `.env`.\n",
    "\n",
    "**NOTA:** Asegúrate de mantener el nombre de cada modelo igual al nombre de implementación del modelo que configuraste en Azure OpenAI.\n",
    "\n",
    "**NOTA:** Ten en cuenta que algunos modelos de AOAI podrían estar obsoletos. Deberías crear los que estén disponibles según sea necesario. Para completar este primer desafío, gpt-35-turbo es el único modelo que necesitas.\n",
    "\n",
    "Para obtener información sobre los modelos actuales, consulta: [Modelos del Servicio Azure OpenAI Service](https://learn.microsoft.com/es-mx/azure/ai-services/openai/concepts/models)"
   ]
  },
  {
   "cell_type": "markdown",
   "metadata": {
    "nteract": {
     "transient": {
      "deleting": false
     }
    }
   },
   "source": [
    "####  Configuración del Entorno de Azure OpenAI"
   ]
  },
  {
   "cell_type": "code",
   "execution_count": 2,
   "metadata": {
    "gather": {
     "logged": 1686932813309
    },
    "jupyter": {
     "outputs_hidden": false,
     "source_hidden": false
    },
    "nteract": {
     "transient": {
      "deleting": false
     }
    }
   },
   "outputs": [
    {
     "data": {
      "text/plain": [
       "True"
      ]
     },
     "execution_count": 2,
     "metadata": {},
     "output_type": "execute_result"
    }
   ],
   "source": [
    "import openai\n",
    "import os\n",
    "import json\n",
    "from dotenv import load_dotenv, find_dotenv\n",
    "load_dotenv(find_dotenv())"
   ]
  },
  {
   "cell_type": "code",
   "execution_count": 3,
   "metadata": {
    "gather": {
     "logged": 1686933122347
    },
    "jupyter": {
     "outputs_hidden": false,
     "source_hidden": false
    },
    "nteract": {
     "transient": {
      "deleting": false
     }
    }
   },
   "outputs": [],
   "source": [
    "API_KEY = os.getenv(\"OPENAI_API_KEY\")\n",
    "assert API_KEY, \"ERROR: Azure OpenAI Key is missing\"\n",
    "openai.api_key = API_KEY\n",
    "\n",
    "RESOURCE_ENDPOINT = os.getenv(\"OPENAI_API_BASE\",\"\").strip()\n",
    "assert RESOURCE_ENDPOINT, \"ERROR: Azure OpenAI Endpoint is missing\"\n",
    "assert \"openai.azure.com\" in RESOURCE_ENDPOINT.lower(), \"ERROR: Azure OpenAI Endpoint should be in the form: \\n\\n\\t<your unique endpoint identifier>.openai.azure.com\"\n",
    "\n",
    "openai.api_base = RESOURCE_ENDPOINT\n",
    "openai.api_type = os.getenv(\"OPENAI_API_TYPE\")\n",
    "openai.api_version = os.getenv(\"OPENAI_API_VERSION\")\n",
    "\n",
    "chat_model=os.getenv(\"CHAT_MODEL_NAME\")\n"
   ]
  },
  {
   "cell_type": "markdown",
   "metadata": {
    "nteract": {
     "transient": {
      "deleting": false
     }
    }
   },
   "source": [
    "#### 1.1.2 Explicación de Parámetros\n",
    "Especificamos los hiperparámetros para los modelos de Azure OpenAI dentro de las funciones de ayuda. Los usuarios pueden ajustar los parámetros según sus necesidades.\n",
    "\n",
    "\n",
    "###### **Temperatura**\n",
    "La temperatura varía de 0 a 2. Aquí tienes un desglose rápido de cómo funciona:\n",
    "- Temperatura baja (0 a 0.3): Salidas más enfocadas, coherentes y conservadoras.\n",
    "- Temperatura media (0.3 a 0.7): Creatividad y coherencia equilibradas.\n",
    "- Alta temperatura (> 0.7): Altamente creativa y diversa, pero potencialmente menos coherente.\n",
    "\n",
    "###### **Top_p**\n",
    "Establece el límite de probabilidad para el muestreo de tokens, afectando la amplitud de opciones que considera la IA. Valores más altos conducen a más aleatoriedad, mientras que valores más bajos resultan en salidas más enfocadas.\n",
    "\n",
    "\n",
    "El parámetro \"top_p\" actúa como un filtro que controla cuántas palabras o frases diferentes considera el modelo de lenguaje cuando intenta predecir la siguiente palabra. Si configuras el valor de \"top p\" a 0.5, el modelo de lenguaje solo considerará las 50 palabras o frases más probables que podrían seguir. Pero si configuras el valor de \"top p\" a 0.9, el modelo de lenguaje considerará las 90 palabras o frases más probables.\n",
    "\n",
    "Dado que \"top_p\" y \"temperatura\" realizan trabajos similares como hiperparámetros, usualmente solo ajustamos uno de ellos en lugar de ambos al mismo tiempo.\n",
    "\n",
    "###### **Max_tokens**\n",
    "Max_tokens determina la longitud máxima del texto generado. Al establecer un límite, puedes controlar cuánto texto devolverá el modelo LLM, asegurando que no proporcione una respuesta demasiado larga.\n",
    "\n",
    "###### **Frequency_penalty**\n",
    "La penalización de frecuencia asegura que el texto generado sea variado al dar una penalización a los tokens que ya se han utilizado en la respuesta.\n",
    "\n",
    "Varía de -2.0 a 2.0, con valores más altos resultando en una salida más diversa.\n",
    "\n",
    "Los valores positivos penalizan nuevos tokens basados en su frecuencia existente en el texto hasta el momento, disminuyendo la probabilidad del modelo de repetir la misma línea textualmente."
   ]
  },
  {
   "cell_type": "markdown",
   "metadata": {
    "nteract": {
     "transient": {
      "deleting": false
     }
    }
   },
   "source": [
    "#### 1.1.3 Función de Ayuda\n",
    "A lo largo de este desafío, utilizaremos el modelo `gpt-3.5-turbo` de Azure OpenAI y el [punto final de conexión (endpoint) de chat completions](https://platform.openai.com/docs/guides/chat). \n",
    "\n",
    "Esta función de ayuda facilitará el uso de prompts y la visualización de las salidas generadas.\n",
    "\n",
    "**get_chat_completion** ayuda a crear la respuesta de Azure OpenAI utilizando el modelo de chat de tu elección.\n",
    "\n",
    "**get_completion_from_messages** ayuda a crear la respuesta de Azure OpenAI utilizando el modelo de chat de tu elección, habilitando el historial de chat.\n"
   ]
  },
  {
   "cell_type": "code",
   "execution_count": 4,
   "metadata": {
    "gather": {
     "logged": 1686938673045
    },
    "jupyter": {
     "outputs_hidden": false,
     "source_hidden": false
    },
    "nteract": {
     "transient": {
      "deleting": false
     }
    }
   },
   "outputs": [
    {
     "ename": "KeyboardInterrupt",
     "evalue": "",
     "output_type": "error",
     "traceback": [
      "\u001b[0;31m---------------------------------------------------------------------------\u001b[0m",
      "\u001b[0;31mKeyboardInterrupt\u001b[0m                         Traceback (most recent call last)",
      "Cell \u001b[0;32mIn[4], line 12\u001b[0m\n\u001b[1;32m      3\u001b[0m     response \u001b[38;5;241m=\u001b[39m openai\u001b[38;5;241m.\u001b[39mChatCompletion\u001b[38;5;241m.\u001b[39mcreate(\n\u001b[1;32m      4\u001b[0m         engine\u001b[38;5;241m=\u001b[39mmodel,\n\u001b[1;32m      5\u001b[0m         messages\u001b[38;5;241m=\u001b[39mmessages,\n\u001b[0;32m   (...)\u001b[0m\n\u001b[1;32m      8\u001b[0m         top_p \u001b[38;5;241m=\u001b[39m \u001b[38;5;241m1.0\u001b[39m\n\u001b[1;32m      9\u001b[0m     )\n\u001b[1;32m     10\u001b[0m     \u001b[38;5;28;01mreturn\u001b[39;00m response\u001b[38;5;241m.\u001b[39mchoices[\u001b[38;5;241m0\u001b[39m]\u001b[38;5;241m.\u001b[39mmessage[\u001b[38;5;124m\"\u001b[39m\u001b[38;5;124mcontent\u001b[39m\u001b[38;5;124m\"\u001b[39m]\n\u001b[0;32m---> 12\u001b[0m \u001b[43mget_chat_completion\u001b[49m\u001b[43m(\u001b[49m\u001b[38;5;124;43m'\u001b[39;49m\u001b[38;5;124;43mCuantas \u001b[39;49m\u001b[38;5;124;43m\"\u001b[39;49m\u001b[38;5;124;43mr\u001b[39;49m\u001b[38;5;124;43m\"\u001b[39;49m\u001b[38;5;124;43m tiene la palabra strawberry?\u001b[39;49m\u001b[38;5;124;43m'\u001b[39;49m\u001b[43m)\u001b[49m\n",
      "Cell \u001b[0;32mIn[4], line 3\u001b[0m, in \u001b[0;36mget_chat_completion\u001b[0;34m(prompt, model)\u001b[0m\n\u001b[1;32m      1\u001b[0m \u001b[38;5;28;01mdef\u001b[39;00m \u001b[38;5;21mget_chat_completion\u001b[39m(prompt, model\u001b[38;5;241m=\u001b[39mchat_model):\n\u001b[1;32m      2\u001b[0m     messages \u001b[38;5;241m=\u001b[39m [{\u001b[38;5;124m\"\u001b[39m\u001b[38;5;124mrole\u001b[39m\u001b[38;5;124m\"\u001b[39m: \u001b[38;5;124m\"\u001b[39m\u001b[38;5;124muser\u001b[39m\u001b[38;5;124m\"\u001b[39m, \u001b[38;5;124m\"\u001b[39m\u001b[38;5;124mcontent\u001b[39m\u001b[38;5;124m\"\u001b[39m: prompt}]\n\u001b[0;32m----> 3\u001b[0m     response \u001b[38;5;241m=\u001b[39m \u001b[43mopenai\u001b[49m\u001b[38;5;241;43m.\u001b[39;49m\u001b[43mChatCompletion\u001b[49m\u001b[38;5;241;43m.\u001b[39;49m\u001b[43mcreate\u001b[49m\u001b[43m(\u001b[49m\n\u001b[1;32m      4\u001b[0m \u001b[43m        \u001b[49m\u001b[43mengine\u001b[49m\u001b[38;5;241;43m=\u001b[39;49m\u001b[43mmodel\u001b[49m\u001b[43m,\u001b[49m\n\u001b[1;32m      5\u001b[0m \u001b[43m        \u001b[49m\u001b[43mmessages\u001b[49m\u001b[38;5;241;43m=\u001b[39;49m\u001b[43mmessages\u001b[49m\u001b[43m,\u001b[49m\n\u001b[1;32m      6\u001b[0m \u001b[43m        \u001b[49m\u001b[43mtemperature\u001b[49m\u001b[38;5;241;43m=\u001b[39;49m\u001b[38;5;241;43m0\u001b[39;49m\u001b[43m,\u001b[49m\u001b[43m \u001b[49m\u001b[38;5;66;43;03m# this is the degree of randomness of the model's output\u001b[39;49;00m\n\u001b[1;32m      7\u001b[0m \u001b[43m        \u001b[49m\u001b[43mmax_tokens\u001b[49m\u001b[43m \u001b[49m\u001b[38;5;241;43m=\u001b[39;49m\u001b[43m \u001b[49m\u001b[38;5;241;43m200\u001b[39;49m\u001b[43m,\u001b[49m\n\u001b[1;32m      8\u001b[0m \u001b[43m        \u001b[49m\u001b[43mtop_p\u001b[49m\u001b[43m \u001b[49m\u001b[38;5;241;43m=\u001b[39;49m\u001b[43m \u001b[49m\u001b[38;5;241;43m1.0\u001b[39;49m\n\u001b[1;32m      9\u001b[0m \u001b[43m    \u001b[49m\u001b[43m)\u001b[49m\n\u001b[1;32m     10\u001b[0m     \u001b[38;5;28;01mreturn\u001b[39;00m response\u001b[38;5;241m.\u001b[39mchoices[\u001b[38;5;241m0\u001b[39m]\u001b[38;5;241m.\u001b[39mmessage[\u001b[38;5;124m\"\u001b[39m\u001b[38;5;124mcontent\u001b[39m\u001b[38;5;124m\"\u001b[39m]\n",
      "File \u001b[0;32m~/.python/current/lib/python3.12/site-packages/openai/api_resources/chat_completion.py:25\u001b[0m, in \u001b[0;36mChatCompletion.create\u001b[0;34m(cls, *args, **kwargs)\u001b[0m\n\u001b[1;32m     23\u001b[0m \u001b[38;5;28;01mwhile\u001b[39;00m \u001b[38;5;28;01mTrue\u001b[39;00m:\n\u001b[1;32m     24\u001b[0m     \u001b[38;5;28;01mtry\u001b[39;00m:\n\u001b[0;32m---> 25\u001b[0m         \u001b[38;5;28;01mreturn\u001b[39;00m \u001b[38;5;28;43msuper\u001b[39;49m\u001b[43m(\u001b[49m\u001b[43m)\u001b[49m\u001b[38;5;241;43m.\u001b[39;49m\u001b[43mcreate\u001b[49m\u001b[43m(\u001b[49m\u001b[38;5;241;43m*\u001b[39;49m\u001b[43margs\u001b[49m\u001b[43m,\u001b[49m\u001b[43m \u001b[49m\u001b[38;5;241;43m*\u001b[39;49m\u001b[38;5;241;43m*\u001b[39;49m\u001b[43mkwargs\u001b[49m\u001b[43m)\u001b[49m\n\u001b[1;32m     26\u001b[0m     \u001b[38;5;28;01mexcept\u001b[39;00m TryAgain \u001b[38;5;28;01mas\u001b[39;00m e:\n\u001b[1;32m     27\u001b[0m         \u001b[38;5;28;01mif\u001b[39;00m timeout \u001b[38;5;129;01mis\u001b[39;00m \u001b[38;5;129;01mnot\u001b[39;00m \u001b[38;5;28;01mNone\u001b[39;00m \u001b[38;5;129;01mand\u001b[39;00m time\u001b[38;5;241m.\u001b[39mtime() \u001b[38;5;241m>\u001b[39m start \u001b[38;5;241m+\u001b[39m timeout:\n",
      "File \u001b[0;32m~/.python/current/lib/python3.12/site-packages/openai/api_resources/abstract/engine_api_resource.py:153\u001b[0m, in \u001b[0;36mEngineAPIResource.create\u001b[0;34m(cls, api_key, api_base, api_type, request_id, api_version, organization, **params)\u001b[0m\n\u001b[1;32m    127\u001b[0m \u001b[38;5;129m@classmethod\u001b[39m\n\u001b[1;32m    128\u001b[0m \u001b[38;5;28;01mdef\u001b[39;00m \u001b[38;5;21mcreate\u001b[39m(\n\u001b[1;32m    129\u001b[0m     \u001b[38;5;28mcls\u001b[39m,\n\u001b[0;32m   (...)\u001b[0m\n\u001b[1;32m    136\u001b[0m     \u001b[38;5;241m*\u001b[39m\u001b[38;5;241m*\u001b[39mparams,\n\u001b[1;32m    137\u001b[0m ):\n\u001b[1;32m    138\u001b[0m     (\n\u001b[1;32m    139\u001b[0m         deployment_id,\n\u001b[1;32m    140\u001b[0m         engine,\n\u001b[0;32m   (...)\u001b[0m\n\u001b[1;32m    150\u001b[0m         api_key, api_base, api_type, api_version, organization, \u001b[38;5;241m*\u001b[39m\u001b[38;5;241m*\u001b[39mparams\n\u001b[1;32m    151\u001b[0m     )\n\u001b[0;32m--> 153\u001b[0m     response, _, api_key \u001b[38;5;241m=\u001b[39m \u001b[43mrequestor\u001b[49m\u001b[38;5;241;43m.\u001b[39;49m\u001b[43mrequest\u001b[49m\u001b[43m(\u001b[49m\n\u001b[1;32m    154\u001b[0m \u001b[43m        \u001b[49m\u001b[38;5;124;43m\"\u001b[39;49m\u001b[38;5;124;43mpost\u001b[39;49m\u001b[38;5;124;43m\"\u001b[39;49m\u001b[43m,\u001b[49m\n\u001b[1;32m    155\u001b[0m \u001b[43m        \u001b[49m\u001b[43murl\u001b[49m\u001b[43m,\u001b[49m\n\u001b[1;32m    156\u001b[0m \u001b[43m        \u001b[49m\u001b[43mparams\u001b[49m\u001b[38;5;241;43m=\u001b[39;49m\u001b[43mparams\u001b[49m\u001b[43m,\u001b[49m\n\u001b[1;32m    157\u001b[0m \u001b[43m        \u001b[49m\u001b[43mheaders\u001b[49m\u001b[38;5;241;43m=\u001b[39;49m\u001b[43mheaders\u001b[49m\u001b[43m,\u001b[49m\n\u001b[1;32m    158\u001b[0m \u001b[43m        \u001b[49m\u001b[43mstream\u001b[49m\u001b[38;5;241;43m=\u001b[39;49m\u001b[43mstream\u001b[49m\u001b[43m,\u001b[49m\n\u001b[1;32m    159\u001b[0m \u001b[43m        \u001b[49m\u001b[43mrequest_id\u001b[49m\u001b[38;5;241;43m=\u001b[39;49m\u001b[43mrequest_id\u001b[49m\u001b[43m,\u001b[49m\n\u001b[1;32m    160\u001b[0m \u001b[43m        \u001b[49m\u001b[43mrequest_timeout\u001b[49m\u001b[38;5;241;43m=\u001b[39;49m\u001b[43mrequest_timeout\u001b[49m\u001b[43m,\u001b[49m\n\u001b[1;32m    161\u001b[0m \u001b[43m    \u001b[49m\u001b[43m)\u001b[49m\n\u001b[1;32m    163\u001b[0m     \u001b[38;5;28;01mif\u001b[39;00m stream:\n\u001b[1;32m    164\u001b[0m         \u001b[38;5;66;03m# must be an iterator\u001b[39;00m\n\u001b[1;32m    165\u001b[0m         \u001b[38;5;28;01massert\u001b[39;00m \u001b[38;5;129;01mnot\u001b[39;00m \u001b[38;5;28misinstance\u001b[39m(response, OpenAIResponse)\n",
      "File \u001b[0;32m~/.python/current/lib/python3.12/site-packages/openai/api_requestor.py:216\u001b[0m, in \u001b[0;36mAPIRequestor.request\u001b[0;34m(self, method, url, params, headers, files, stream, request_id, request_timeout)\u001b[0m\n\u001b[1;32m    205\u001b[0m \u001b[38;5;28;01mdef\u001b[39;00m \u001b[38;5;21mrequest\u001b[39m(\n\u001b[1;32m    206\u001b[0m     \u001b[38;5;28mself\u001b[39m,\n\u001b[1;32m    207\u001b[0m     method,\n\u001b[0;32m   (...)\u001b[0m\n\u001b[1;32m    214\u001b[0m     request_timeout: Optional[Union[\u001b[38;5;28mfloat\u001b[39m, Tuple[\u001b[38;5;28mfloat\u001b[39m, \u001b[38;5;28mfloat\u001b[39m]]] \u001b[38;5;241m=\u001b[39m \u001b[38;5;28;01mNone\u001b[39;00m,\n\u001b[1;32m    215\u001b[0m ) \u001b[38;5;241m-\u001b[39m\u001b[38;5;241m>\u001b[39m Tuple[Union[OpenAIResponse, Iterator[OpenAIResponse]], \u001b[38;5;28mbool\u001b[39m, \u001b[38;5;28mstr\u001b[39m]:\n\u001b[0;32m--> 216\u001b[0m     result \u001b[38;5;241m=\u001b[39m \u001b[38;5;28;43mself\u001b[39;49m\u001b[38;5;241;43m.\u001b[39;49m\u001b[43mrequest_raw\u001b[49m\u001b[43m(\u001b[49m\n\u001b[1;32m    217\u001b[0m \u001b[43m        \u001b[49m\u001b[43mmethod\u001b[49m\u001b[38;5;241;43m.\u001b[39;49m\u001b[43mlower\u001b[49m\u001b[43m(\u001b[49m\u001b[43m)\u001b[49m\u001b[43m,\u001b[49m\n\u001b[1;32m    218\u001b[0m \u001b[43m        \u001b[49m\u001b[43murl\u001b[49m\u001b[43m,\u001b[49m\n\u001b[1;32m    219\u001b[0m \u001b[43m        \u001b[49m\u001b[43mparams\u001b[49m\u001b[38;5;241;43m=\u001b[39;49m\u001b[43mparams\u001b[49m\u001b[43m,\u001b[49m\n\u001b[1;32m    220\u001b[0m \u001b[43m        \u001b[49m\u001b[43msupplied_headers\u001b[49m\u001b[38;5;241;43m=\u001b[39;49m\u001b[43mheaders\u001b[49m\u001b[43m,\u001b[49m\n\u001b[1;32m    221\u001b[0m \u001b[43m        \u001b[49m\u001b[43mfiles\u001b[49m\u001b[38;5;241;43m=\u001b[39;49m\u001b[43mfiles\u001b[49m\u001b[43m,\u001b[49m\n\u001b[1;32m    222\u001b[0m \u001b[43m        \u001b[49m\u001b[43mstream\u001b[49m\u001b[38;5;241;43m=\u001b[39;49m\u001b[43mstream\u001b[49m\u001b[43m,\u001b[49m\n\u001b[1;32m    223\u001b[0m \u001b[43m        \u001b[49m\u001b[43mrequest_id\u001b[49m\u001b[38;5;241;43m=\u001b[39;49m\u001b[43mrequest_id\u001b[49m\u001b[43m,\u001b[49m\n\u001b[1;32m    224\u001b[0m \u001b[43m        \u001b[49m\u001b[43mrequest_timeout\u001b[49m\u001b[38;5;241;43m=\u001b[39;49m\u001b[43mrequest_timeout\u001b[49m\u001b[43m,\u001b[49m\n\u001b[1;32m    225\u001b[0m \u001b[43m    \u001b[49m\u001b[43m)\u001b[49m\n\u001b[1;32m    226\u001b[0m     resp, got_stream \u001b[38;5;241m=\u001b[39m \u001b[38;5;28mself\u001b[39m\u001b[38;5;241m.\u001b[39m_interpret_response(result, stream)\n\u001b[1;32m    227\u001b[0m     \u001b[38;5;28;01mreturn\u001b[39;00m resp, got_stream, \u001b[38;5;28mself\u001b[39m\u001b[38;5;241m.\u001b[39mapi_key\n",
      "File \u001b[0;32m~/.python/current/lib/python3.12/site-packages/openai/api_requestor.py:516\u001b[0m, in \u001b[0;36mAPIRequestor.request_raw\u001b[0;34m(self, method, url, params, supplied_headers, files, stream, request_id, request_timeout)\u001b[0m\n\u001b[1;32m    514\u001b[0m     _thread_context\u001b[38;5;241m.\u001b[39msession \u001b[38;5;241m=\u001b[39m _make_session()\n\u001b[1;32m    515\u001b[0m \u001b[38;5;28;01mtry\u001b[39;00m:\n\u001b[0;32m--> 516\u001b[0m     result \u001b[38;5;241m=\u001b[39m \u001b[43m_thread_context\u001b[49m\u001b[38;5;241;43m.\u001b[39;49m\u001b[43msession\u001b[49m\u001b[38;5;241;43m.\u001b[39;49m\u001b[43mrequest\u001b[49m\u001b[43m(\u001b[49m\n\u001b[1;32m    517\u001b[0m \u001b[43m        \u001b[49m\u001b[43mmethod\u001b[49m\u001b[43m,\u001b[49m\n\u001b[1;32m    518\u001b[0m \u001b[43m        \u001b[49m\u001b[43mabs_url\u001b[49m\u001b[43m,\u001b[49m\n\u001b[1;32m    519\u001b[0m \u001b[43m        \u001b[49m\u001b[43mheaders\u001b[49m\u001b[38;5;241;43m=\u001b[39;49m\u001b[43mheaders\u001b[49m\u001b[43m,\u001b[49m\n\u001b[1;32m    520\u001b[0m \u001b[43m        \u001b[49m\u001b[43mdata\u001b[49m\u001b[38;5;241;43m=\u001b[39;49m\u001b[43mdata\u001b[49m\u001b[43m,\u001b[49m\n\u001b[1;32m    521\u001b[0m \u001b[43m        \u001b[49m\u001b[43mfiles\u001b[49m\u001b[38;5;241;43m=\u001b[39;49m\u001b[43mfiles\u001b[49m\u001b[43m,\u001b[49m\n\u001b[1;32m    522\u001b[0m \u001b[43m        \u001b[49m\u001b[43mstream\u001b[49m\u001b[38;5;241;43m=\u001b[39;49m\u001b[43mstream\u001b[49m\u001b[43m,\u001b[49m\n\u001b[1;32m    523\u001b[0m \u001b[43m        \u001b[49m\u001b[43mtimeout\u001b[49m\u001b[38;5;241;43m=\u001b[39;49m\u001b[43mrequest_timeout\u001b[49m\u001b[43m \u001b[49m\u001b[38;5;28;43;01mif\u001b[39;49;00m\u001b[43m \u001b[49m\u001b[43mrequest_timeout\u001b[49m\u001b[43m \u001b[49m\u001b[38;5;28;43;01melse\u001b[39;49;00m\u001b[43m \u001b[49m\u001b[43mTIMEOUT_SECS\u001b[49m\u001b[43m,\u001b[49m\n\u001b[1;32m    524\u001b[0m \u001b[43m    \u001b[49m\u001b[43m)\u001b[49m\n\u001b[1;32m    525\u001b[0m \u001b[38;5;28;01mexcept\u001b[39;00m requests\u001b[38;5;241m.\u001b[39mexceptions\u001b[38;5;241m.\u001b[39mTimeout \u001b[38;5;28;01mas\u001b[39;00m e:\n\u001b[1;32m    526\u001b[0m     \u001b[38;5;28;01mraise\u001b[39;00m error\u001b[38;5;241m.\u001b[39mTimeout(\u001b[38;5;124m\"\u001b[39m\u001b[38;5;124mRequest timed out: \u001b[39m\u001b[38;5;132;01m{}\u001b[39;00m\u001b[38;5;124m\"\u001b[39m\u001b[38;5;241m.\u001b[39mformat(e)) \u001b[38;5;28;01mfrom\u001b[39;00m \u001b[38;5;21;01me\u001b[39;00m\n",
      "File \u001b[0;32m~/.local/lib/python3.12/site-packages/requests/sessions.py:589\u001b[0m, in \u001b[0;36mSession.request\u001b[0;34m(self, method, url, params, data, headers, cookies, files, auth, timeout, allow_redirects, proxies, hooks, stream, verify, cert, json)\u001b[0m\n\u001b[1;32m    584\u001b[0m send_kwargs \u001b[38;5;241m=\u001b[39m {\n\u001b[1;32m    585\u001b[0m     \u001b[38;5;124m\"\u001b[39m\u001b[38;5;124mtimeout\u001b[39m\u001b[38;5;124m\"\u001b[39m: timeout,\n\u001b[1;32m    586\u001b[0m     \u001b[38;5;124m\"\u001b[39m\u001b[38;5;124mallow_redirects\u001b[39m\u001b[38;5;124m\"\u001b[39m: allow_redirects,\n\u001b[1;32m    587\u001b[0m }\n\u001b[1;32m    588\u001b[0m send_kwargs\u001b[38;5;241m.\u001b[39mupdate(settings)\n\u001b[0;32m--> 589\u001b[0m resp \u001b[38;5;241m=\u001b[39m \u001b[38;5;28;43mself\u001b[39;49m\u001b[38;5;241;43m.\u001b[39;49m\u001b[43msend\u001b[49m\u001b[43m(\u001b[49m\u001b[43mprep\u001b[49m\u001b[43m,\u001b[49m\u001b[43m \u001b[49m\u001b[38;5;241;43m*\u001b[39;49m\u001b[38;5;241;43m*\u001b[39;49m\u001b[43msend_kwargs\u001b[49m\u001b[43m)\u001b[49m\n\u001b[1;32m    591\u001b[0m \u001b[38;5;28;01mreturn\u001b[39;00m resp\n",
      "File \u001b[0;32m~/.local/lib/python3.12/site-packages/requests/sessions.py:703\u001b[0m, in \u001b[0;36mSession.send\u001b[0;34m(self, request, **kwargs)\u001b[0m\n\u001b[1;32m    700\u001b[0m start \u001b[38;5;241m=\u001b[39m preferred_clock()\n\u001b[1;32m    702\u001b[0m \u001b[38;5;66;03m# Send the request\u001b[39;00m\n\u001b[0;32m--> 703\u001b[0m r \u001b[38;5;241m=\u001b[39m \u001b[43madapter\u001b[49m\u001b[38;5;241;43m.\u001b[39;49m\u001b[43msend\u001b[49m\u001b[43m(\u001b[49m\u001b[43mrequest\u001b[49m\u001b[43m,\u001b[49m\u001b[43m \u001b[49m\u001b[38;5;241;43m*\u001b[39;49m\u001b[38;5;241;43m*\u001b[39;49m\u001b[43mkwargs\u001b[49m\u001b[43m)\u001b[49m\n\u001b[1;32m    705\u001b[0m \u001b[38;5;66;03m# Total elapsed time of the request (approximately)\u001b[39;00m\n\u001b[1;32m    706\u001b[0m elapsed \u001b[38;5;241m=\u001b[39m preferred_clock() \u001b[38;5;241m-\u001b[39m start\n",
      "File \u001b[0;32m~/.local/lib/python3.12/site-packages/requests/adapters.py:667\u001b[0m, in \u001b[0;36mHTTPAdapter.send\u001b[0;34m(self, request, stream, timeout, verify, cert, proxies)\u001b[0m\n\u001b[1;32m    664\u001b[0m     timeout \u001b[38;5;241m=\u001b[39m TimeoutSauce(connect\u001b[38;5;241m=\u001b[39mtimeout, read\u001b[38;5;241m=\u001b[39mtimeout)\n\u001b[1;32m    666\u001b[0m \u001b[38;5;28;01mtry\u001b[39;00m:\n\u001b[0;32m--> 667\u001b[0m     resp \u001b[38;5;241m=\u001b[39m \u001b[43mconn\u001b[49m\u001b[38;5;241;43m.\u001b[39;49m\u001b[43murlopen\u001b[49m\u001b[43m(\u001b[49m\n\u001b[1;32m    668\u001b[0m \u001b[43m        \u001b[49m\u001b[43mmethod\u001b[49m\u001b[38;5;241;43m=\u001b[39;49m\u001b[43mrequest\u001b[49m\u001b[38;5;241;43m.\u001b[39;49m\u001b[43mmethod\u001b[49m\u001b[43m,\u001b[49m\n\u001b[1;32m    669\u001b[0m \u001b[43m        \u001b[49m\u001b[43murl\u001b[49m\u001b[38;5;241;43m=\u001b[39;49m\u001b[43murl\u001b[49m\u001b[43m,\u001b[49m\n\u001b[1;32m    670\u001b[0m \u001b[43m        \u001b[49m\u001b[43mbody\u001b[49m\u001b[38;5;241;43m=\u001b[39;49m\u001b[43mrequest\u001b[49m\u001b[38;5;241;43m.\u001b[39;49m\u001b[43mbody\u001b[49m\u001b[43m,\u001b[49m\n\u001b[1;32m    671\u001b[0m \u001b[43m        \u001b[49m\u001b[43mheaders\u001b[49m\u001b[38;5;241;43m=\u001b[39;49m\u001b[43mrequest\u001b[49m\u001b[38;5;241;43m.\u001b[39;49m\u001b[43mheaders\u001b[49m\u001b[43m,\u001b[49m\n\u001b[1;32m    672\u001b[0m \u001b[43m        \u001b[49m\u001b[43mredirect\u001b[49m\u001b[38;5;241;43m=\u001b[39;49m\u001b[38;5;28;43;01mFalse\u001b[39;49;00m\u001b[43m,\u001b[49m\n\u001b[1;32m    673\u001b[0m \u001b[43m        \u001b[49m\u001b[43massert_same_host\u001b[49m\u001b[38;5;241;43m=\u001b[39;49m\u001b[38;5;28;43;01mFalse\u001b[39;49;00m\u001b[43m,\u001b[49m\n\u001b[1;32m    674\u001b[0m \u001b[43m        \u001b[49m\u001b[43mpreload_content\u001b[49m\u001b[38;5;241;43m=\u001b[39;49m\u001b[38;5;28;43;01mFalse\u001b[39;49;00m\u001b[43m,\u001b[49m\n\u001b[1;32m    675\u001b[0m \u001b[43m        \u001b[49m\u001b[43mdecode_content\u001b[49m\u001b[38;5;241;43m=\u001b[39;49m\u001b[38;5;28;43;01mFalse\u001b[39;49;00m\u001b[43m,\u001b[49m\n\u001b[1;32m    676\u001b[0m \u001b[43m        \u001b[49m\u001b[43mretries\u001b[49m\u001b[38;5;241;43m=\u001b[39;49m\u001b[38;5;28;43mself\u001b[39;49m\u001b[38;5;241;43m.\u001b[39;49m\u001b[43mmax_retries\u001b[49m\u001b[43m,\u001b[49m\n\u001b[1;32m    677\u001b[0m \u001b[43m        \u001b[49m\u001b[43mtimeout\u001b[49m\u001b[38;5;241;43m=\u001b[39;49m\u001b[43mtimeout\u001b[49m\u001b[43m,\u001b[49m\n\u001b[1;32m    678\u001b[0m \u001b[43m        \u001b[49m\u001b[43mchunked\u001b[49m\u001b[38;5;241;43m=\u001b[39;49m\u001b[43mchunked\u001b[49m\u001b[43m,\u001b[49m\n\u001b[1;32m    679\u001b[0m \u001b[43m    \u001b[49m\u001b[43m)\u001b[49m\n\u001b[1;32m    681\u001b[0m \u001b[38;5;28;01mexcept\u001b[39;00m (ProtocolError, \u001b[38;5;167;01mOSError\u001b[39;00m) \u001b[38;5;28;01mas\u001b[39;00m err:\n\u001b[1;32m    682\u001b[0m     \u001b[38;5;28;01mraise\u001b[39;00m \u001b[38;5;167;01mConnectionError\u001b[39;00m(err, request\u001b[38;5;241m=\u001b[39mrequest)\n",
      "File \u001b[0;32m~/.local/lib/python3.12/site-packages/urllib3/connectionpool.py:789\u001b[0m, in \u001b[0;36mHTTPConnectionPool.urlopen\u001b[0;34m(self, method, url, body, headers, retries, redirect, assert_same_host, timeout, pool_timeout, release_conn, chunked, body_pos, preload_content, decode_content, **response_kw)\u001b[0m\n\u001b[1;32m    786\u001b[0m response_conn \u001b[38;5;241m=\u001b[39m conn \u001b[38;5;28;01mif\u001b[39;00m \u001b[38;5;129;01mnot\u001b[39;00m release_conn \u001b[38;5;28;01melse\u001b[39;00m \u001b[38;5;28;01mNone\u001b[39;00m\n\u001b[1;32m    788\u001b[0m \u001b[38;5;66;03m# Make the request on the HTTPConnection object\u001b[39;00m\n\u001b[0;32m--> 789\u001b[0m response \u001b[38;5;241m=\u001b[39m \u001b[38;5;28;43mself\u001b[39;49m\u001b[38;5;241;43m.\u001b[39;49m\u001b[43m_make_request\u001b[49m\u001b[43m(\u001b[49m\n\u001b[1;32m    790\u001b[0m \u001b[43m    \u001b[49m\u001b[43mconn\u001b[49m\u001b[43m,\u001b[49m\n\u001b[1;32m    791\u001b[0m \u001b[43m    \u001b[49m\u001b[43mmethod\u001b[49m\u001b[43m,\u001b[49m\n\u001b[1;32m    792\u001b[0m \u001b[43m    \u001b[49m\u001b[43murl\u001b[49m\u001b[43m,\u001b[49m\n\u001b[1;32m    793\u001b[0m \u001b[43m    \u001b[49m\u001b[43mtimeout\u001b[49m\u001b[38;5;241;43m=\u001b[39;49m\u001b[43mtimeout_obj\u001b[49m\u001b[43m,\u001b[49m\n\u001b[1;32m    794\u001b[0m \u001b[43m    \u001b[49m\u001b[43mbody\u001b[49m\u001b[38;5;241;43m=\u001b[39;49m\u001b[43mbody\u001b[49m\u001b[43m,\u001b[49m\n\u001b[1;32m    795\u001b[0m \u001b[43m    \u001b[49m\u001b[43mheaders\u001b[49m\u001b[38;5;241;43m=\u001b[39;49m\u001b[43mheaders\u001b[49m\u001b[43m,\u001b[49m\n\u001b[1;32m    796\u001b[0m \u001b[43m    \u001b[49m\u001b[43mchunked\u001b[49m\u001b[38;5;241;43m=\u001b[39;49m\u001b[43mchunked\u001b[49m\u001b[43m,\u001b[49m\n\u001b[1;32m    797\u001b[0m \u001b[43m    \u001b[49m\u001b[43mretries\u001b[49m\u001b[38;5;241;43m=\u001b[39;49m\u001b[43mretries\u001b[49m\u001b[43m,\u001b[49m\n\u001b[1;32m    798\u001b[0m \u001b[43m    \u001b[49m\u001b[43mresponse_conn\u001b[49m\u001b[38;5;241;43m=\u001b[39;49m\u001b[43mresponse_conn\u001b[49m\u001b[43m,\u001b[49m\n\u001b[1;32m    799\u001b[0m \u001b[43m    \u001b[49m\u001b[43mpreload_content\u001b[49m\u001b[38;5;241;43m=\u001b[39;49m\u001b[43mpreload_content\u001b[49m\u001b[43m,\u001b[49m\n\u001b[1;32m    800\u001b[0m \u001b[43m    \u001b[49m\u001b[43mdecode_content\u001b[49m\u001b[38;5;241;43m=\u001b[39;49m\u001b[43mdecode_content\u001b[49m\u001b[43m,\u001b[49m\n\u001b[1;32m    801\u001b[0m \u001b[43m    \u001b[49m\u001b[38;5;241;43m*\u001b[39;49m\u001b[38;5;241;43m*\u001b[39;49m\u001b[43mresponse_kw\u001b[49m\u001b[43m,\u001b[49m\n\u001b[1;32m    802\u001b[0m \u001b[43m\u001b[49m\u001b[43m)\u001b[49m\n\u001b[1;32m    804\u001b[0m \u001b[38;5;66;03m# Everything went great!\u001b[39;00m\n\u001b[1;32m    805\u001b[0m clean_exit \u001b[38;5;241m=\u001b[39m \u001b[38;5;28;01mTrue\u001b[39;00m\n",
      "File \u001b[0;32m~/.local/lib/python3.12/site-packages/urllib3/connectionpool.py:536\u001b[0m, in \u001b[0;36mHTTPConnectionPool._make_request\u001b[0;34m(self, conn, method, url, body, headers, retries, timeout, chunked, response_conn, preload_content, decode_content, enforce_content_length)\u001b[0m\n\u001b[1;32m    534\u001b[0m \u001b[38;5;66;03m# Receive the response from the server\u001b[39;00m\n\u001b[1;32m    535\u001b[0m \u001b[38;5;28;01mtry\u001b[39;00m:\n\u001b[0;32m--> 536\u001b[0m     response \u001b[38;5;241m=\u001b[39m \u001b[43mconn\u001b[49m\u001b[38;5;241;43m.\u001b[39;49m\u001b[43mgetresponse\u001b[49m\u001b[43m(\u001b[49m\u001b[43m)\u001b[49m\n\u001b[1;32m    537\u001b[0m \u001b[38;5;28;01mexcept\u001b[39;00m (BaseSSLError, \u001b[38;5;167;01mOSError\u001b[39;00m) \u001b[38;5;28;01mas\u001b[39;00m e:\n\u001b[1;32m    538\u001b[0m     \u001b[38;5;28mself\u001b[39m\u001b[38;5;241m.\u001b[39m_raise_timeout(err\u001b[38;5;241m=\u001b[39me, url\u001b[38;5;241m=\u001b[39murl, timeout_value\u001b[38;5;241m=\u001b[39mread_timeout)\n",
      "File \u001b[0;32m~/.local/lib/python3.12/site-packages/urllib3/connection.py:507\u001b[0m, in \u001b[0;36mHTTPConnection.getresponse\u001b[0;34m(self)\u001b[0m\n\u001b[1;32m    504\u001b[0m \u001b[38;5;28;01mfrom\u001b[39;00m \u001b[38;5;21;01m.\u001b[39;00m\u001b[38;5;21;01mresponse\u001b[39;00m \u001b[38;5;28;01mimport\u001b[39;00m HTTPResponse\n\u001b[1;32m    506\u001b[0m \u001b[38;5;66;03m# Get the response from http.client.HTTPConnection\u001b[39;00m\n\u001b[0;32m--> 507\u001b[0m httplib_response \u001b[38;5;241m=\u001b[39m \u001b[38;5;28;43msuper\u001b[39;49m\u001b[43m(\u001b[49m\u001b[43m)\u001b[49m\u001b[38;5;241;43m.\u001b[39;49m\u001b[43mgetresponse\u001b[49m\u001b[43m(\u001b[49m\u001b[43m)\u001b[49m\n\u001b[1;32m    509\u001b[0m \u001b[38;5;28;01mtry\u001b[39;00m:\n\u001b[1;32m    510\u001b[0m     assert_header_parsing(httplib_response\u001b[38;5;241m.\u001b[39mmsg)\n",
      "File \u001b[0;32m~/.python/current/lib/python3.12/http/client.py:1419\u001b[0m, in \u001b[0;36mHTTPConnection.getresponse\u001b[0;34m(self)\u001b[0m\n\u001b[1;32m   1417\u001b[0m \u001b[38;5;28;01mtry\u001b[39;00m:\n\u001b[1;32m   1418\u001b[0m     \u001b[38;5;28;01mtry\u001b[39;00m:\n\u001b[0;32m-> 1419\u001b[0m         \u001b[43mresponse\u001b[49m\u001b[38;5;241;43m.\u001b[39;49m\u001b[43mbegin\u001b[49m\u001b[43m(\u001b[49m\u001b[43m)\u001b[49m\n\u001b[1;32m   1420\u001b[0m     \u001b[38;5;28;01mexcept\u001b[39;00m \u001b[38;5;167;01mConnectionError\u001b[39;00m:\n\u001b[1;32m   1421\u001b[0m         \u001b[38;5;28mself\u001b[39m\u001b[38;5;241m.\u001b[39mclose()\n",
      "File \u001b[0;32m~/.python/current/lib/python3.12/http/client.py:331\u001b[0m, in \u001b[0;36mHTTPResponse.begin\u001b[0;34m(self)\u001b[0m\n\u001b[1;32m    329\u001b[0m \u001b[38;5;66;03m# read until we get a non-100 response\u001b[39;00m\n\u001b[1;32m    330\u001b[0m \u001b[38;5;28;01mwhile\u001b[39;00m \u001b[38;5;28;01mTrue\u001b[39;00m:\n\u001b[0;32m--> 331\u001b[0m     version, status, reason \u001b[38;5;241m=\u001b[39m \u001b[38;5;28;43mself\u001b[39;49m\u001b[38;5;241;43m.\u001b[39;49m\u001b[43m_read_status\u001b[49m\u001b[43m(\u001b[49m\u001b[43m)\u001b[49m\n\u001b[1;32m    332\u001b[0m     \u001b[38;5;28;01mif\u001b[39;00m status \u001b[38;5;241m!=\u001b[39m CONTINUE:\n\u001b[1;32m    333\u001b[0m         \u001b[38;5;28;01mbreak\u001b[39;00m\n",
      "File \u001b[0;32m~/.python/current/lib/python3.12/http/client.py:292\u001b[0m, in \u001b[0;36mHTTPResponse._read_status\u001b[0;34m(self)\u001b[0m\n\u001b[1;32m    291\u001b[0m \u001b[38;5;28;01mdef\u001b[39;00m \u001b[38;5;21m_read_status\u001b[39m(\u001b[38;5;28mself\u001b[39m):\n\u001b[0;32m--> 292\u001b[0m     line \u001b[38;5;241m=\u001b[39m \u001b[38;5;28mstr\u001b[39m(\u001b[38;5;28;43mself\u001b[39;49m\u001b[38;5;241;43m.\u001b[39;49m\u001b[43mfp\u001b[49m\u001b[38;5;241;43m.\u001b[39;49m\u001b[43mreadline\u001b[49m\u001b[43m(\u001b[49m\u001b[43m_MAXLINE\u001b[49m\u001b[43m \u001b[49m\u001b[38;5;241;43m+\u001b[39;49m\u001b[43m \u001b[49m\u001b[38;5;241;43m1\u001b[39;49m\u001b[43m)\u001b[49m, \u001b[38;5;124m\"\u001b[39m\u001b[38;5;124miso-8859-1\u001b[39m\u001b[38;5;124m\"\u001b[39m)\n\u001b[1;32m    293\u001b[0m     \u001b[38;5;28;01mif\u001b[39;00m \u001b[38;5;28mlen\u001b[39m(line) \u001b[38;5;241m>\u001b[39m _MAXLINE:\n\u001b[1;32m    294\u001b[0m         \u001b[38;5;28;01mraise\u001b[39;00m LineTooLong(\u001b[38;5;124m\"\u001b[39m\u001b[38;5;124mstatus line\u001b[39m\u001b[38;5;124m\"\u001b[39m)\n",
      "File \u001b[0;32m~/.python/current/lib/python3.12/socket.py:707\u001b[0m, in \u001b[0;36mSocketIO.readinto\u001b[0;34m(self, b)\u001b[0m\n\u001b[1;32m    705\u001b[0m \u001b[38;5;28;01mwhile\u001b[39;00m \u001b[38;5;28;01mTrue\u001b[39;00m:\n\u001b[1;32m    706\u001b[0m     \u001b[38;5;28;01mtry\u001b[39;00m:\n\u001b[0;32m--> 707\u001b[0m         \u001b[38;5;28;01mreturn\u001b[39;00m \u001b[38;5;28;43mself\u001b[39;49m\u001b[38;5;241;43m.\u001b[39;49m\u001b[43m_sock\u001b[49m\u001b[38;5;241;43m.\u001b[39;49m\u001b[43mrecv_into\u001b[49m\u001b[43m(\u001b[49m\u001b[43mb\u001b[49m\u001b[43m)\u001b[49m\n\u001b[1;32m    708\u001b[0m     \u001b[38;5;28;01mexcept\u001b[39;00m timeout:\n\u001b[1;32m    709\u001b[0m         \u001b[38;5;28mself\u001b[39m\u001b[38;5;241m.\u001b[39m_timeout_occurred \u001b[38;5;241m=\u001b[39m \u001b[38;5;28;01mTrue\u001b[39;00m\n",
      "File \u001b[0;32m~/.python/current/lib/python3.12/ssl.py:1253\u001b[0m, in \u001b[0;36mSSLSocket.recv_into\u001b[0;34m(self, buffer, nbytes, flags)\u001b[0m\n\u001b[1;32m   1249\u001b[0m     \u001b[38;5;28;01mif\u001b[39;00m flags \u001b[38;5;241m!=\u001b[39m \u001b[38;5;241m0\u001b[39m:\n\u001b[1;32m   1250\u001b[0m         \u001b[38;5;28;01mraise\u001b[39;00m \u001b[38;5;167;01mValueError\u001b[39;00m(\n\u001b[1;32m   1251\u001b[0m           \u001b[38;5;124m\"\u001b[39m\u001b[38;5;124mnon-zero flags not allowed in calls to recv_into() on \u001b[39m\u001b[38;5;132;01m%s\u001b[39;00m\u001b[38;5;124m\"\u001b[39m \u001b[38;5;241m%\u001b[39m\n\u001b[1;32m   1252\u001b[0m           \u001b[38;5;28mself\u001b[39m\u001b[38;5;241m.\u001b[39m\u001b[38;5;18m__class__\u001b[39m)\n\u001b[0;32m-> 1253\u001b[0m     \u001b[38;5;28;01mreturn\u001b[39;00m \u001b[38;5;28;43mself\u001b[39;49m\u001b[38;5;241;43m.\u001b[39;49m\u001b[43mread\u001b[49m\u001b[43m(\u001b[49m\u001b[43mnbytes\u001b[49m\u001b[43m,\u001b[49m\u001b[43m \u001b[49m\u001b[43mbuffer\u001b[49m\u001b[43m)\u001b[49m\n\u001b[1;32m   1254\u001b[0m \u001b[38;5;28;01melse\u001b[39;00m:\n\u001b[1;32m   1255\u001b[0m     \u001b[38;5;28;01mreturn\u001b[39;00m \u001b[38;5;28msuper\u001b[39m()\u001b[38;5;241m.\u001b[39mrecv_into(buffer, nbytes, flags)\n",
      "File \u001b[0;32m~/.python/current/lib/python3.12/ssl.py:1105\u001b[0m, in \u001b[0;36mSSLSocket.read\u001b[0;34m(self, len, buffer)\u001b[0m\n\u001b[1;32m   1103\u001b[0m \u001b[38;5;28;01mtry\u001b[39;00m:\n\u001b[1;32m   1104\u001b[0m     \u001b[38;5;28;01mif\u001b[39;00m buffer \u001b[38;5;129;01mis\u001b[39;00m \u001b[38;5;129;01mnot\u001b[39;00m \u001b[38;5;28;01mNone\u001b[39;00m:\n\u001b[0;32m-> 1105\u001b[0m         \u001b[38;5;28;01mreturn\u001b[39;00m \u001b[38;5;28;43mself\u001b[39;49m\u001b[38;5;241;43m.\u001b[39;49m\u001b[43m_sslobj\u001b[49m\u001b[38;5;241;43m.\u001b[39;49m\u001b[43mread\u001b[49m\u001b[43m(\u001b[49m\u001b[38;5;28;43mlen\u001b[39;49m\u001b[43m,\u001b[49m\u001b[43m \u001b[49m\u001b[43mbuffer\u001b[49m\u001b[43m)\u001b[49m\n\u001b[1;32m   1106\u001b[0m     \u001b[38;5;28;01melse\u001b[39;00m:\n\u001b[1;32m   1107\u001b[0m         \u001b[38;5;28;01mreturn\u001b[39;00m \u001b[38;5;28mself\u001b[39m\u001b[38;5;241m.\u001b[39m_sslobj\u001b[38;5;241m.\u001b[39mread(\u001b[38;5;28mlen\u001b[39m)\n",
      "\u001b[0;31mKeyboardInterrupt\u001b[0m: "
     ]
    }
   ],
   "source": [
    "def get_chat_completion(prompt, model=chat_model):\n",
    "    messages = [{\"role\": \"user\", \"content\": prompt}]\n",
    "    response = openai.ChatCompletion.create(\n",
    "        engine=model,\n",
    "        messages=messages,\n",
    "        temperature=0, # this is the degree of randomness of the model's output\n",
    "        max_tokens = 200,\n",
    "        top_p = 1.0\n",
    "    )\n",
    "    return response.choices[0].message[\"content\"]\n",
    "\n",
    "get_chat_completion('Cuantas \"r\" tiene la palabra strawberry?')"
   ]
  },
  {
   "cell_type": "code",
   "execution_count": null,
   "metadata": {
    "gather": {
     "logged": 1686938550664
    },
    "jupyter": {
     "outputs_hidden": false,
     "source_hidden": false
    },
    "nteract": {
     "transient": {
      "deleting": false
     }
    }
   },
   "outputs": [
    {
     "data": {
      "text/plain": [
       "'La palabra \"strawberry\" tiene dos \"r\".'"
      ]
     },
     "execution_count": 6,
     "metadata": {},
     "output_type": "execute_result"
    }
   ],
   "source": [
    "def get_completion_from_messages(messages, model=chat_model, temperature=0):\n",
    "    response = openai.ChatCompletion.create(\n",
    "        engine=model,\n",
    "        messages=messages,\n",
    "        temperature=temperature # this is the degree of randomness of the model's output\n",
    "    )\n",
    "\n",
    "    return response.choices[0].message[\"content\"]\n",
    "\n",
    "get_completion_from_messages([{'role': 'user', 'content': 'Cuantas \"r\" tiene la palabra strawberry?'}])"
   ]
  },
  {
   "cell_type": "markdown",
   "metadata": {
    "nteract": {
     "transient": {
      "deleting": false
     }
    }
   },
   "source": [
    "#### Prueba las funciones auxiliares"
   ]
  },
  {
   "cell_type": "code",
   "execution_count": null,
   "metadata": {
    "gather": {
     "logged": 1686938676516
    },
    "jupyter": {
     "outputs_hidden": false,
     "source_hidden": false
    },
    "nteract": {
     "transient": {
      "deleting": false
     }
    }
   },
   "outputs": [
    {
     "name": "stdout",
     "output_type": "stream",
     "text": [
      "Why did the tomato turn red? Because it saw the salad dressing!\n"
     ]
    }
   ],
   "source": [
    "messages =  f\"\"\"\n",
    "tell me a joke.\n",
    "\"\"\"\n",
    "response = get_chat_completion(messages)\n",
    "print(response)"
   ]
  },
  {
   "cell_type": "code",
   "execution_count": null,
   "metadata": {
    "gather": {
     "logged": 1686938564787
    },
    "jupyter": {
     "outputs_hidden": false,
     "source_hidden": false
    },
    "nteract": {
     "transient": {
      "deleting": false
     }
    }
   },
   "outputs": [
    {
     "name": "stdout",
     "output_type": "stream",
     "text": [
      "To get to the other side!\n"
     ]
    }
   ],
   "source": [
    "messages =  [      \n",
    "    {'role':'user', 'content':'tell me a joke'},   \n",
    "    {'role':'assistant', 'content':'Why did the chicken cross the road'},   \n",
    "    {'role':'user', 'content':'I don\\'t know'}\n",
    "]\n",
    "response = get_completion_from_messages(messages, temperature=1)\n",
    "print(response)"
   ]
  },
  {
   "cell_type": "markdown",
   "metadata": {
    "nteract": {
     "transient": {
      "deleting": false
     }
    }
   },
   "source": [
    "#### Tareas para Estudiantes (preguntas abiertas):\n",
    "1. Crea una función de finalización de texto (completions) para una temperatura muy alta, entre (0,1).\n",
    "2. Crea una función de finalización de texto (completions) para un valor muy pequeño de max_tokens a fin de obtener respuestas más cortas.\n",
    "3. Crea funciones de finalización (completions) con 2 valores diferentes de penalización por diversidad entre (0,2).\n",
    "\n",
    "Prueba las funciones de finalización (completions) que has creado y compara los resultados obtenidos con las pruebas anteriores."
   ]
  },
  {
   "cell_type": "code",
   "execution_count": null,
   "metadata": {
    "jupyter": {
     "outputs_hidden": false,
     "source_hidden": false
    },
    "nteract": {
     "transient": {
      "deleting": false
     }
    }
   },
   "outputs": [
    {
     "data": {
      "text/plain": [
       "'¡Cuando se trata de ser creativo, las posibilidades son infinitas! Aquí van algunas ideas para inspirarte:\\n\\n- Si tienes un hobby o una pasión, intégralo en tus proyectos creativos. Por ejemplo, si te gusta la fotografía, puedes experimentar con diferentes técnicas de edición de imágenes para crear un efecto único.\\n\\n- Cambia tu entorno para estimular la creatividad. Si siempre trabajas en tu escritorio, prueba escribir en un parque o en un café. Si normalmente escuchas música para inspirarte, trata de trabajar en silencio o con sonidos naturales.\\n\\n- Usa objetos o materiales inesperados para crear algo nuevo. Por ejemplo, haz una escultura con platos desechables o una pintura con café.\\n\\n- Combinar diferentes habilidades o disciplinas puede resultar en una obra interesante. Por ejemplo, si sabes tocar guitarra y pint'"
      ]
     },
     "execution_count": 9,
     "metadata": {},
     "output_type": "execute_result"
    }
   ],
   "source": [
    "# Prueba aquí la función de completación para una temperatura muy alta entre (0,1)\n",
    "\n",
    "def obtener_texto(prompt, model=chat_model):\n",
    "    messages = [{\"role\": \"user\", \"content\": prompt}]\n",
    "    response = openai.ChatCompletion.create(\n",
    "        engine = model,\n",
    "        messages = messages,\n",
    "        temperature = 1,\n",
    "        max_tokens = 200\n",
    "    )\n",
    "\n",
    "    return response.choices[0].message['content']\n",
    "\n",
    "obtener_texto('Se creativo')\n",
    "    "
   ]
  },
  {
   "cell_type": "code",
   "execution_count": null,
   "metadata": {
    "jupyter": {
     "outputs_hidden": false,
     "source_hidden": false
    },
    "nteract": {
     "transient": {
      "deleting": false
     }
    }
   },
   "outputs": [
    {
     "data": {
      "text/plain": [
       "'¡Uno de mis pasatiempos favoritos es la escritura! Me encanta crear historias y personajes interesantes, y luego ver cómo se desenvuelven en un mundo ficticio. También disfruto de la pintura y el'"
      ]
     },
     "execution_count": 10,
     "metadata": {},
     "output_type": "execute_result"
    }
   ],
   "source": [
    "# Prueba aquí la función de completación para un valor max_tokens muy bajo para obtener respuestas más cortas\n",
    "\n",
    "def obtener_texto(prompt, model=chat_model):\n",
    "    messages = [{\"role\": \"user\", \"content\": prompt}]\n",
    "    response = openai.ChatCompletion.create(\n",
    "        engine = model,\n",
    "        messages = messages,\n",
    "        temperature = 1,\n",
    "        max_tokens = 50\n",
    "    )\n",
    "\n",
    "    return response.choices[0].message['content']\n",
    "\n",
    "obtener_texto('Se creativo')"
   ]
  },
  {
   "cell_type": "code",
   "execution_count": null,
   "metadata": {
    "jupyter": {
     "outputs_hidden": false,
     "source_hidden": false
    },
    "nteract": {
     "transient": {
      "deleting": false
     }
    }
   },
   "outputs": [
    {
     "data": {
      "text/plain": [
       "'¡Aquí van algunas ideas para ser creativo! \\n\\n1. Busca inspiración en la naturaleza: Observa los patrones y colores de la naturaleza y busca formas de incorporarlos en tus proyectos, ya sea en tu arte o en el diseño de tu hogar.\\n\\n2. Pasa tiempo haciendo cosas que te apasionen: Muchas veces nuestra creatividad surge mientras estamos haciendo cosas que nos gustan, como cocinar, hacer deportes, leer o escuchar música.\\n\\n3. Experimenta con diferentes medios: Si eres artista, prueba con distintos materiales que no estás acostumbrado a usar. Si trabajas en algo creativo, como diseño gráfico o marketing, investiga nuevas técnicas o herramientas que puedan mejorar tu trabajo.\\n\\n4. Rodéate de personas creativas: Pasa tiempo con gente que te inspire y te apoye en tus proyectos creativos.\\n\\n5. Acepta el'"
      ]
     },
     "execution_count": 11,
     "metadata": {},
     "output_type": "execute_result"
    }
   ],
   "source": [
    "# Prueba aquí las funciones de completación con 2 valores diferentes de penalización por diversidad entre (0,2).\n",
    "\n",
    "def obtener_texto(prompt, model=chat_model):\n",
    "    messages = [{\"role\": \"user\", \"content\": prompt}]\n",
    "    response = openai.ChatCompletion.create(\n",
    "        engine = model,\n",
    "        messages = messages,\n",
    "        temperature = 1,\n",
    "        max_tokens = 200,\n",
    "        top_p = 1.0\n",
    "    )\n",
    "\n",
    "    return response.choices[0].message['content']\n",
    "\n",
    "obtener_texto('Se creativo')"
   ]
  },
  {
   "cell_type": "markdown",
   "metadata": {
    "nteract": {
     "transient": {
      "deleting": false
     }
    }
   },
   "source": [
    "### 1.2 Ingeniería de Mensajes del Sistema\n",
    "Los usuarios pueden lograr que los modelos respondan en el tono deseado ajustando el mensaje del sistema."
   ]
  },
  {
   "cell_type": "markdown",
   "metadata": {
    "nteract": {
     "transient": {
      "deleting": false
     }
    }
   },
   "source": [
    "#### 1.2.1 Cambio de Tono"
   ]
  },
  {
   "cell_type": "code",
   "execution_count": null,
   "metadata": {
    "gather": {
     "logged": 1685476487849
    },
    "jupyter": {
     "outputs_hidden": false,
     "source_hidden": false
    },
    "nteract": {
     "transient": {
      "deleting": false
     }
    }
   },
   "outputs": [
    {
     "name": "stdout",
     "output_type": "stream",
     "text": [
      "Sure! Here's one:\n",
      "\n",
      "Why did the tomato turn red?\n",
      "Because it saw the salad dressing!\n"
     ]
    }
   ],
   "source": [
    "messages =  [      \n",
    "    {'role':'assistant', 'content':'How can I help you?'},\n",
    "    {'role':'user', 'content':'tell me a joke'}\n",
    "]\n",
    "response = get_completion_from_messages(messages, temperature=1)\n",
    "print(response)"
   ]
  },
  {
   "cell_type": "code",
   "execution_count": null,
   "metadata": {
    "gather": {
     "logged": 1685059077359
    },
    "jupyter": {
     "outputs_hidden": false,
     "source_hidden": false
    },
    "nteract": {
     "transient": {
      "deleting": false
     }
    }
   },
   "outputs": [
    {
     "name": "stdout",
     "output_type": "stream",
     "text": [
      "What do you get when you cross a snowman and a shark? Frost bite!\n"
     ]
    }
   ],
   "source": [
    "messages =  [  \n",
    "    {'role':'system', 'content':'You are an assistant that speaks like Shakespeare.'},    \n",
    "    {'role':'assistant', 'content':'How can I help you?'},\n",
    "    {'role':'user', 'content':'tell me a joke'}\n",
    "]\n",
    "response = get_completion_from_messages(messages, temperature=1)\n",
    "print(response)"
   ]
  },
  {
   "cell_type": "markdown",
   "metadata": {
    "nteract": {
     "transient": {
      "deleting": false
     }
    }
   },
   "source": [
    "#### Tarea para Estudiantes (pregunta abierta):\n",
    "Haz que el asistente cuente un chiste con el tono de tu personaje favorito editando el mensaje del sistema.\n"
   ]
  },
  {
   "cell_type": "code",
   "execution_count": null,
   "metadata": {
    "gather": {
     "logged": 1686939630607
    },
    "jupyter": {
     "outputs_hidden": false,
     "source_hidden": false
    },
    "nteract": {
     "transient": {
      "deleting": false
     }
    }
   },
   "outputs": [
    {
     "name": "stdout",
     "output_type": "stream",
     "text": [
      "Bueno, ¿sabes qué tienen en común Kenny y Kyle? Que siempre son los primeros en morir en mis aventuras. ¡Ja ja ja, joder!\n"
     ]
    }
   ],
   "source": [
    "# Haz que el asistente cuente un chiste con el tono de tu personaje favorito editando el mensaje del sistema.\n",
    "\n",
    "messages =  [  \n",
    "    {'role':'system', 'content':'Eres un asistente que habla como Eric Cartman'},    \n",
    "    {'role':'assistant', 'content':'Como quieres que te ayude?'},\n",
    "    {'role':'user', 'content':'Dime algun chiste sobre tus amigos'}\n",
    "]\n",
    "response = get_completion_from_messages(messages, temperature=1)\n",
    "print(response)"
   ]
  },
  {
   "cell_type": "markdown",
   "metadata": {
    "nteract": {
     "transient": {
      "deleting": false
     }
    }
   },
   "source": [
    "#### 1.2.2 Recordar el Nombre de la Empresa"
   ]
  },
  {
   "cell_type": "code",
   "execution_count": null,
   "metadata": {
    "gather": {
     "logged": 1685059130793
    },
    "jupyter": {
     "outputs_hidden": false,
     "source_hidden": false
    },
    "nteract": {
     "transient": {
      "deleting": false
     }
    }
   },
   "outputs": [
    {
     "name": "stdout",
     "output_type": "stream",
     "text": [
      "I'm sorry, I don't have that information. Can you tell me the name of the company you work for and I can confirm it for you?\n"
     ]
    }
   ],
   "source": [
    "messages =  [  \n",
    "{'role':'system', 'content':'You are friendly chatbot.'},  \n",
    "{'role':'user', 'content':'Hi, my name is Mel.'},\n",
    "{'role':'assistant', 'content': \"Hi! It's nice to meet you. \\\n",
    "Is there anything I can help you with today?\"},  \n",
    "{'role':'user', 'content':'Yes, can you remind me which company I work for?'}  ]\n",
    "response = get_completion_from_messages(messages, temperature=1)\n",
    "print(response)"
   ]
  },
  {
   "cell_type": "markdown",
   "metadata": {
    "nteract": {
     "transient": {
      "deleting": false
     }
    }
   },
   "source": [
    "#### Tarea para Estudiantes:\n",
    "Haz que el asistente ofrezca un recordatorio confiable del nombre de la empresa proporcionando contexto en el mensaje del sistema."
   ]
  },
  {
   "cell_type": "code",
   "execution_count": null,
   "metadata": {
    "gather": {
     "logged": 1686939642577
    },
    "jupyter": {
     "outputs_hidden": false,
     "source_hidden": false
    },
    "nteract": {
     "transient": {
      "deleting": false
     }
    }
   },
   "outputs": [
    {
     "name": "stdout",
     "output_type": "stream",
     "text": [
      "Sure, you mentioned earlier that you work for Oracle. Is something bothering you that you would like to talk about?\n"
     ]
    }
   ],
   "source": [
    "# Haz que el asistente ofrezca un recordatorio confiable del nombre de la empresa proporcionando contexto en el mensaje del sistema.\n",
    "\n",
    "messages =  [  \n",
    "{'role':'system', 'content':'Eres un asistente de la empresa Oracle'},  \n",
    "{'role':'user', 'content':'Hi, my name is Mel.'},\n",
    "{'role':'assistant', 'content': \"Hi! It's nice to meet you. \\\n",
    "Is there anything I can help you with today?\"},  \n",
    "{'role':'user', 'content':'Yes, can you remind me which company I work for?'}  ]\n",
    "response = get_completion_from_messages(messages, temperature=1)\n",
    "print(response)"
   ]
  },
  {
   "cell_type": "markdown",
   "metadata": {
    "nteract": {
     "transient": {
      "deleting": false
     }
    }
   },
   "source": [
    "## 2. Principios de Prompting Iterativo\n",
    "Es una buena práctica realizar un prompting iterativo para que el modelo pueda generar la respuesta más adecuada según las especificaciones del usuario.\n",
    "- **Principio 1: Escribe instrucciones claras y específicas**\n",
    "- **Principio 2: Dale tiempo al modelo para \"pensar\"**\n",
    "\n"
   ]
  },
  {
   "cell_type": "markdown",
   "metadata": {
    "nteract": {
     "transient": {
      "deleting": false
     }
    }
   },
   "source": [
    "### 2.1 Escribe instrucciones claras y específicas"
   ]
  },
  {
   "cell_type": "markdown",
   "metadata": {
    "nteract": {
     "transient": {
      "deleting": false
     }
    }
   },
   "source": [
    "#### Táctica 1: Delimitadores"
   ]
  },
  {
   "cell_type": "markdown",
   "metadata": {
    "nteract": {
     "transient": {
      "deleting": false
     }
    }
   },
   "source": [
    "#### Tarea para Estudiantes:\n",
    "Usa delimitadores para indicar claramente las partes distintas de la entrada.\n",
    "\n",
    "Los delimitadores pueden ser cualquier cosa como: ````, \"\"\", < >, `<tag> </tag>`, `:`"
   ]
  },
  {
   "cell_type": "code",
   "execution_count": null,
   "metadata": {
    "gather": {
     "logged": 1685081594233
    },
    "jupyter": {
     "outputs_hidden": false,
     "source_hidden": false
    },
    "nteract": {
     "transient": {
      "deleting": false
     }
    }
   },
   "outputs": [],
   "source": [
    "text = f\"\"\"\n",
    "    The 2020 Summer Olympics, officially the Games of the XXXII Olympiad and also known as Tokyo 2020, was an international multi-sport event held from 23 July to 8 August 2021 in Tokyo, Japan, with some preliminary events that began on 21 July 2021. Tokyo was selected as the host city during the 125th IOC Session in Buenos Aires, Argentina, on 7 September 2013.Originally scheduled to take place from 24 July to 9 August 2020, the event was postponed to 2021 on 24 March 2020 due to the global COVID-19 pandemic, the first such instance in the history of the Olympic Games (previous games had been cancelled but not rescheduled). However, the event retained the Tokyo 2020 branding for marketing purposes. It was largely held behind closed doors with no public spectators permitted due to the declaration of a state of emergency in the Greater Tokyo Area in response to the pandemic, the first and only Olympic Games to be held without official spectators. The Games were the most expensive ever, with total spending of over $20 billion.The Games were the fourth Olympic Games to be held in Japan, following the 1964 Summer Olympics (Tokyo), 1972 Winter Olympics (Sapporo), and 1998 Winter Olympics (Nagano). Tokyo became the first city in Asia to hold the Summer Olympic Games twice. The 2020 Games were the second of three consecutive Olympics to be held in East Asia, following the 2018 Winter Olympics in Pyeongchang, South Korea and preceding the 2022 Winter Olympics in Beijing, China. Due to the one-year postponement, Tokyo 2020 was the first and only Olympic Games to have been held in an odd-numbered year and the first Summer Olympics since 1900 to be held in a non-leap year.\\nNew events were introduced in existing sports, including 3x3 basketball, freestyle BMX and mixed gender team events in a number of existing sports, as well as the return of madison cycling for men and an introduction of the same event for women. New IOC policies also allowed the host organizing committee to add new sports to the Olympic program for just one Games. The disciplines added by the Japanese Olympic Committee were baseball and softball, karate, sport climbing, surfing and skateboarding, the last four of which made their Olympic debuts, and the last three of which will remain on the Olympic program.The United States topped the medal count by both total golds (39) and total medals (113), with China finishing second by both respects (38 and 89). Host nation Japan finished third, setting a record for the most gold medals and total medals ever won by their delegation at an Olympic Games with 27 and 58. Great Britain finished fourth, with a total of 22 gold and 64 medals. The Russian delegation competing as the ROC finished fifth with 20 gold medals and third in the overall medal count, with 71 medals. Bermuda, the Philippines and Qatar won their first-ever Olympic gold medals. Burkina Faso, San Marino and Turkmenistan also won their first-ever Olympic medals.'\n",
    "\"\"\""
   ]
  },
  {
   "cell_type": "code",
   "execution_count": null,
   "metadata": {
    "jupyter": {
     "outputs_hidden": false,
     "source_hidden": false
    },
    "nteract": {
     "transient": {
      "deleting": false
     }
    }
   },
   "outputs": [
    {
     "name": "stdout",
     "output_type": "stream",
     "text": [
      "The 2020 Summer Olympics, also known as Tokyo 2020, was an international multi-sport event held from July 23 to August 8, 2021 in Tokyo, Japan. It was originally postponed from 2020 due to the COVID-19 pandemic. The Games were held without public spectators due to the declaration of a state of emergency in the Greater Tokyo Area. The United States topped the medal count, with China finishing second and Japan finishing third, setting a record for the most gold medals and total medals ever won by their delegation at an Olympic Games. New events were introduced in existing sports, and new sports were added, including baseball and softball, karate, sport climbing, surfing, and skateboarding. The Games were the most expensive ever, with total spending of over $20 billion.\n"
     ]
    }
   ],
   "source": [
    "# Usa delimitadores para indicar claramente las partes distintas de la entrada y pide al modelo que resuma el texto.\n",
    "\n",
    "messages = [\n",
    "    {'role': 'system', 'content': 'Eres un asistente de la empresa Oracle'},\n",
    "    {'role': 'user', 'content': 'Hi, my name is Mel.'},\n",
    "    {'role': 'assistant', 'content': \"Hi! It's nice to meet you. Is there anything I can help you with today?\"},\n",
    "    {'role': 'user', 'content': f'Podrías resumir el siguiente texto: {text}'}\n",
    "]\n",
    "\n",
    "response = get_completion_from_messages(messages, temperature=1)\n",
    "print(response)\n"
   ]
  },
  {
   "cell_type": "markdown",
   "metadata": {
    "nteract": {
     "transient": {
      "deleting": false
     }
    }
   },
   "source": [
    "#### Táctica 2: Resumen: especificar el número de palabras, extraer información"
   ]
  },
  {
   "cell_type": "markdown",
   "metadata": {
    "nteract": {
     "transient": {
      "deleting": false
     }
    }
   },
   "source": [
    "#### Texto a resumir"
   ]
  },
  {
   "cell_type": "code",
   "execution_count": null,
   "metadata": {
    "gather": {
     "logged": 1685059771050
    },
    "jupyter": {
     "outputs_hidden": false,
     "source_hidden": false
    },
    "nteract": {
     "transient": {
      "deleting": false
     }
    }
   },
   "outputs": [],
   "source": [
    "game_review = \"\"\"\n",
    "The 2020 Summer Olympics, officially the Games of the XXXII Olympiad and also known as Tokyo 2020, \\\n",
    "was an international multi-sport event held from 23 July to 8 August 2021 in Tokyo, Japan, \\\n",
    "with some preliminary events that began on 21 July 2021. Tokyo was selected as the host city during the 125th IOC Session in Buenos Aires, Argentina, \\\n",
    "on 7 September 2013.Originally scheduled to take place from 24 July to 9 August 2020, the event was postponed to 2021 on 24 March 2020 due to the global COVID-19 pandemic, \\\n",
    "the first such instance in the history of the Olympic Games (previous games had been cancelled but not rescheduled). \\\n",
    "However, the event retained the Tokyo 2020 branding for marketing purposes. \\\n",
    "It was largely held behind closed doors with no public spectators permitted due to the declaration of a state of emergency in the Greater Tokyo Area in response to the pandemic, the first and only Olympic Games to be held without official spectators. \\\n",
    "The Games were the most expensive ever, with total spending of over $20 billion. \\\n",
    "The Games were the fourth Olympic Games to be held in Japan, following the 1964 Summer Olympics (Tokyo), 1972 Winter Olympics (Sapporo), \\\n",
    "and 1998 Winter Olympics (Nagano). Tokyo became the first city in Asia to hold the Summer Olympic Games twice. \\\n",
    "The 2020 Games were the second of three consecutive Olympics to be held in East Asia, following the 2018 Winter Olympics in Pyeongchang, \\\n",
    "South Korea and preceding the 2022 Winter Olympics in Beijing, China. \\\n",
    "Due to the one-year postponement, Tokyo 2020 was the first and only Olympic Games to have been held in an odd-numbered year and the first Summer Olympics since 1900 to be held in a non-leap year.\n",
    "New events were introduced in existing sports, including 3x3 basketball, \\\n",
    "freestyle BMX and mixed gender team events in a number of existing sports, as well as the return of madison cycling for men and an introduction of the same event for women. \\\n",
    "New IOC policies also allowed the host organizing committee to add new sports to the Olympic program for just one Games. \\\n",
    "The disciplines added by the Japanese Olympic Committee were baseball and softball, karate, \\\n",
    "sport climbing, surfing and skateboarding, the last four of which made their Olympic debuts, and the last three of which will remain on the Olympic program. \\\n",
    "The United States topped the medal count by both total golds (39) and total medals (113), with China finishing second by both respects (38 and 89). \\\n",
    "Host nation Japan finished third, setting a record for the most gold medals and total medals ever won by their delegation at an Olympic Games with 27 and 58. \\\n",
    "Great Britain finished fourth, with a total of 22 gold and 64 medals. \\\n",
    "The Russian delegation competing as the ROC finished fifth with 20 gold medals and third in the overall medal count, with 71 medals. \\\n",
    "Bermuda, the Philippines and Qatar won their first-ever Olympic gold medals. Burkina Faso, San Marino and Turkmenistan also won their first-ever Olympic medals.\n",
    "\"\"\""
   ]
  },
  {
   "cell_type": "markdown",
   "metadata": {
    "nteract": {
     "transient": {
      "deleting": false
     }
    }
   },
   "source": [
    "#### Tarea para Estudiantes:\n",
    "Crea un resumen, centrándote en los aspectos especiales de los Juegos Olímpicos de Verano 2020 y con un límite de palabras."
   ]
  },
  {
   "cell_type": "code",
   "execution_count": null,
   "metadata": {
    "jupyter": {
     "outputs_hidden": false,
     "source_hidden": false
    },
    "nteract": {
     "transient": {
      "deleting": false
     }
    }
   },
   "outputs": [
    {
     "name": "stdout",
     "output_type": "stream",
     "text": [
      "The Tokyo 2020 Olympic Games, held in 2021 due to the COVID-19 pandemic, was the most expensive ever, with a total spending of over $20 billion. The event was largely held behind closed doors due to the pandemic, making it the first and only Olympic Games to be held without official spectators. New events were introduced in existing sports, and new sports such as sport climbing, surfing, skateboarding, and karate made Olympic debuts. The United States topped the medal count with 39 golds and 113 total medals, followed by China with 38 golds and 89 total medals, while host nation Japan set records with 27 golds and 58 total medals.\n"
     ]
    }
   ],
   "source": [
    "# Crea un resumen, centrándote en los aspectos especiales de los Juegos Olímpicos de Verano 2020 y con un límite de palabras.\n",
    "\n",
    "messages = [\n",
    "    {'role': 'system', 'content': 'Eres un asistente de la empresa Oracle'},\n",
    "    {'role': 'user', 'content': 'Hi, my name is Mel.'},\n",
    "    {'role': 'assistant', 'content': \"Hi! It's nice to meet you. Is there anything I can help you with today?\"},\n",
    "    {'role': 'user', 'content': f'Podrías resumir el siguiente texto, tienes que centrarte en los aspectos mas especiales y el resumen debe de tener un limite de 100 palabras: {game_review}'}\n",
    "]\n",
    "\n",
    "response = get_completion_from_messages(messages, temperature=1)\n",
    "print(response)\n"
   ]
  },
  {
   "cell_type": "markdown",
   "metadata": {
    "nteract": {
     "transient": {
      "deleting": false
     }
    }
   },
   "source": [
    "#### Tarea para Estudiantes:\n",
    "Intenta \"extract\" en vez de \"summarize\" (\"extraer\" en vez de \"resumir\")"
   ]
  },
  {
   "cell_type": "code",
   "execution_count": null,
   "metadata": {
    "jupyter": {
     "outputs_hidden": false,
     "source_hidden": false
    },
    "nteract": {
     "transient": {
      "deleting": false
     }
    }
   },
   "outputs": [
    {
     "name": "stdout",
     "output_type": "stream",
     "text": [
      "Sure, here are some of the key points from the text:\n",
      "\n",
      "- The 2020 Summer Olympics, also known as Tokyo 2020, was an international multi-sport event held in Tokyo, Japan.\n",
      "- It was held from July 23 to August 8, 2021, with some preliminary events starting on July 21.\n",
      "- Tokyo was chosen as the host city in 2013 during the 125th International Olympic Committee (IOC) Session in Buenos Aires, Argentina.\n",
      "- The event was originally scheduled for 2020 but was postponed to 2021 due to the global COVID-19 pandemic.\n",
      "- The Games were held largely behind closed doors with no public spectators due to a state of emergency in response to the pandemic.\n",
      "- The total spending for the Games was over $20 billion, making it the most expensive Olympic Games ever.\n",
      "- New events were introduced in existing sports, and several new sports were added to the program, including baseball and softball, karate, sport climbing, surfing, and skateboarding.\n",
      "- The United States topped the medal count with 39 gold medals and 113 total medals, followed by China with 38 gold medals and 89 total medals.\n",
      "- Japan finished third in the medal count and set a record for the most gold medals and total medals ever won by their delegation at an Olympic Games.\n",
      "- Several countries, including Bermuda, the Philippines, and Qatar, won their first-ever Olympic gold medals, while Burkina Faso, San Marino, and Turkmenistan won their first-ever Olympic medals.\n"
     ]
    }
   ],
   "source": [
    "# Intenta \"extract\" en vez de \"summarize\" (\"extraer\" en vez de \"resumir\")\n",
    "\n",
    "messages = [\n",
    "    {'role': 'system', 'content': 'Eres un asistente de la empresa Oracle'},\n",
    "    {'role': 'user', 'content': 'Hi, my name is Mel.'},\n",
    "    {'role': 'assistant', 'content': \"Hi! It's nice to meet you. Is there anything I can help you with today?\"},\n",
    "    {'role': 'user', 'content': f'Podrías extraer los datos mas importantes de este texto: {game_review}'}\n",
    "]\n",
    "\n",
    "response = get_completion_from_messages(messages, temperature=1)\n",
    "print(response)"
   ]
  },
  {
   "cell_type": "markdown",
   "metadata": {
    "nteract": {
     "transient": {
      "deleting": false
     }
    }
   },
   "source": [
    "#### Táctica 3: Inferencia: solicitar emociones, sentimientos o temas"
   ]
  },
  {
   "cell_type": "markdown",
   "metadata": {
    "nteract": {
     "transient": {
      "deleting": false
     }
    }
   },
   "source": [
    "#### Tarea para Estudiantes:\n",
    "Identifica los tipos de emociones y el sentimiento (positivo/negativo) de la siguiente reseña.\n",
    "\n",
    "Usa un objeto JSON."
   ]
  },
  {
   "cell_type": "code",
   "execution_count": null,
   "metadata": {
    "jupyter": {
     "outputs_hidden": false,
     "source_hidden": false
    },
    "nteract": {
     "transient": {
      "deleting": false
     }
    }
   },
   "outputs": [],
   "source": [
    "review = \"\"\"\n",
    "Philip Barker of Inside the Games opined that for many athletes and supporters, \\\n",
    "the tone of the ceremony was dignified and appropriate. Hashimoto stated in a press interview that the flame would \"quietly go out\", \\\n",
    "which he felt that \"It was an apt description of a dignified and low key Ceremony which conveyed a sense of gratitude that the Games had been able to take place at all.\"\\\n",
    "Dominic Patten of Deadline Hollywood argued that the ceremony was an \"uneven mixtape\" of contrasts, \\\n",
    "comparing the low-key \"celebration of the culture of the Asian power and brow moping acknowledgement of the pandemic\" to the jubilant Paris segment, \\\n",
    "as well as clichÃ©-filled speech of Thomas Bach. Alan Tyres of The Daily Telegraph discussed the IOC updated motto as a sign of things to come. \\\n",
    "He stated, \"The updated Olympic motto of 'faster, higher, \\\n",
    "stronger â€“ together' fits with how sport is covered and contextualised at this moment in history: \\\n",
    "inclusion, diversity, justice and a duty of care to the athletes must be taken into consideration as much as performance.\" \\\n",
    "He also discussed the strangeness of the ceremony, as it was performed without a stadium audience.\n",
    "\"\"\""
   ]
  },
  {
   "cell_type": "code",
   "execution_count": null,
   "metadata": {
    "jupyter": {
     "outputs_hidden": false,
     "source_hidden": false
    },
    "nteract": {
     "transient": {
      "deleting": false
     }
    }
   },
   "outputs": [
    {
     "name": "stdout",
     "output_type": "stream",
     "text": [
      "The review contains both negative and positive emotions. Some reviewers, such as Philip Barker of Inside the Games, regarded the ceremony as dignified and appropriate which can be interpreted as a positive emotion. On the other hand, Dominic Patten of Deadline Hollywood described the ceremony as an \"uneven mixtape\" and Alan Tyres of The Daily Telegraph discussed the strangeness of the ceremony, which can be interpreted as a negative emotion.\n"
     ]
    }
   ],
   "source": [
    "# Identifica los tipos de emociones y el sentimiento (positivo/negativo) de la siguiente reseña. Usa un objeto JSON\n",
    "\n",
    "messages = [\n",
    "    {'role': 'system', 'content': 'Eres un asistente de la empresa Oracle'},\n",
    "    {'role': 'user', 'content': 'Hi, my name is Mel.'},\n",
    "    {'role': 'assistant', 'content': \"Hi! It's nice to meet you. Is there anything I can help you with today?\"},\n",
    "    {'role': 'user', 'content': f'Podrias verificar si esta reseña tiene una emocion negativa o positiva? {review}'}\n",
    "]\n",
    "\n",
    "response = get_completion_from_messages(messages, temperature=1)\n",
    "print(response)"
   ]
  },
  {
   "cell_type": "markdown",
   "metadata": {
    "nteract": {
     "transient": {
      "deleting": false
     }
    }
   },
   "source": [
    "#### Desafío para Estudiantes:\n",
    "Deduce 3 temas (tópicos) de la historia a continuación."
   ]
  },
  {
   "cell_type": "code",
   "execution_count": null,
   "metadata": {
    "jupyter": {
     "outputs_hidden": false,
     "source_hidden": false
    },
    "nteract": {
     "transient": {
      "deleting": false
     }
    }
   },
   "outputs": [],
   "source": [
    "story = \"\"\"\n",
    "The 2020 Summer Olympics, officially the Games of the XXXII Olympiad and also known as Tokyo 2020, \\\n",
    "was an international multi-sport event held from 23 July to 8 August 2021 in Tokyo, Japan, \\\n",
    "with some preliminary events that began on 21 July 2021. Tokyo was selected as the host city during the 125th IOC Session in Buenos Aires, Argentina, \\\n",
    "on 7 September 2013.Originally scheduled to take place from 24 July to 9 August 2020, the event was postponed to 2021 on 24 March 2020 due to the global COVID-19 pandemic, \\\n",
    "the first such instance in the history of the Olympic Games (previous games had been cancelled but not rescheduled). \\\n",
    "However, the event retained the Tokyo 2020 branding for marketing purposes. \\\n",
    "It was largely held behind closed doors with no public spectators permitted due to the declaration of a state of emergency in the Greater Tokyo Area in response to the pandemic, the first and only Olympic Games to be held without official spectators. \\\n",
    "The Games were the most expensive ever, with total spending of over $20 billion. \\\n",
    "The Games were the fourth Olympic Games to be held in Japan, following the 1964 Summer Olympics (Tokyo), 1972 Winter Olympics (Sapporo), \\\n",
    "and 1998 Winter Olympics (Nagano). Tokyo became the first city in Asia to hold the Summer Olympic Games twice. \\\n",
    "The 2020 Games were the second of three consecutive Olympics to be held in East Asia, following the 2018 Winter Olympics in Pyeongchang, \\\n",
    "South Korea and preceding the 2022 Winter Olympics in Beijing, China. \\\n",
    "Due to the one-year postponement, Tokyo 2020 was the first and only Olympic Games to have been held in an odd-numbered year and the first Summer Olympics since 1900 to be held in a non-leap year.\n",
    "New events were introduced in existing sports, including 3x3 basketball, \\\n",
    "freestyle BMX and mixed gender team events in a number of existing sports, as well as the return of madison cycling for men and an introduction of the same event for women. \\\n",
    "New IOC policies also allowed the host organizing committee to add new sports to the Olympic program for just one Games. \\\n",
    "The disciplines added by the Japanese Olympic Committee were baseball and softball, karate, \\\n",
    "sport climbing, surfing and skateboarding, the last four of which made their Olympic debuts, and the last three of which will remain on the Olympic program. \\\n",
    "The United States topped the medal count by both total golds (39) and total medals (113), with China finishing second by both respects (38 and 89). \\\n",
    "Host nation Japan finished third, setting a record for the most gold medals and total medals ever won by their delegation at an Olympic Games with 27 and 58. \\\n",
    "Great Britain finished fourth, with a total of 22 gold and 64 medals. \\\n",
    "The Russian delegation competing as the ROC finished fifth with 20 gold medals and third in the overall medal count, with 71 medals. \\\n",
    "Bermuda, the Philippines and Qatar won their first-ever Olympic gold medals. Burkina Faso, San Marino and Turkmenistan also won their first-ever Olympic medals.\n",
    "\"\"\""
   ]
  },
  {
   "cell_type": "code",
   "execution_count": null,
   "metadata": {
    "jupyter": {
     "outputs_hidden": false,
     "source_hidden": false
    },
    "nteract": {
     "transient": {
      "deleting": false
     }
    }
   },
   "outputs": [
    {
     "name": "stdout",
     "output_type": "stream",
     "text": [
      "1. The COVID-19 pandemic was a major factor in the planning and execution of the 2020 Summer Olympics, resulting in the event being postponed for the first time in history and held without spectators.\n",
      "2. New events and sports were introduced at the Games, including 3x3 basketball, freestyle BMX, and mixed gender team events, as well as the Olympic debuts of sport climbing, surfing, and skateboarding.\n",
      "3. The United States topped the medal count, followed by China and host nation Japan, with several countries winning their first-ever Olympic medals.\n"
     ]
    }
   ],
   "source": [
    "# Deduce 3 temas (tópicos) de la historia a continuación.\n",
    "\n",
    "messages = [\n",
    "    {'role': 'system', 'content': 'Eres un asistente de la empresa Oracle'},\n",
    "    {'role': 'user', 'content': 'Hola, mi nombre es Leo'},\n",
    "    {'role': 'assistant', 'content': \"Como puedo ayudarte?\"},\n",
    "    {'role': 'user', 'content': f'Podrias deducir 3 temas topicos de la siguiente historia: ${story}'}\n",
    "]\n",
    "\n",
    "response = get_completion_from_messages(messages, temperature=1)\n",
    "print(response)"
   ]
  },
  {
   "cell_type": "markdown",
   "metadata": {
    "nteract": {
     "transient": {
      "deleting": false
     }
    }
   },
   "source": [
    "#### Táctica 4: Transformación: especifica el idioma objetivo y el estilo de escritura, y solicita una revisión gramatical."
   ]
  },
  {
   "cell_type": "markdown",
   "metadata": {
    "nteract": {
     "transient": {
      "deleting": false
     }
    }
   },
   "source": [
    "#### Tarea para Estudiantes:\n",
    "Traductor Universal\n",
    "\n",
    "Personas de todo el mundo desean conocer las noticias de los Juegos Olímpicos en su idioma nativo. En este caso, las noticias deben ser traducidas a diferentes idiomas. Traduce cada elemento de noticias a continuación tanto al coreano como al inglés."
   ]
  },
  {
   "cell_type": "code",
   "execution_count": null,
   "metadata": {
    "jupyter": {
     "outputs_hidden": false,
     "source_hidden": false
    },
    "nteract": {
     "transient": {
      "deleting": false
     }
    }
   },
   "outputs": [],
   "source": [
    "news = [\n",
    "\"Palestine received a universality invitation from FINA to send two top-ranked swimmers (one per gender) in their respective individual events to the Olympics, \\\n",
    "based on the FINA Points System of June 28, 2021.\",\n",
    "\"比赛包括两轮：预赛和决赛。预赛成绩最好的8次接力队晋级决赛。必要时使用游泳比赛来打破平局以晋级下一轮。\"]"
   ]
  },
  {
   "cell_type": "code",
   "execution_count": null,
   "metadata": {
    "jupyter": {
     "outputs_hidden": false,
     "source_hidden": false
    },
    "nteract": {
     "transient": {
      "deleting": false
     }
    }
   },
   "outputs": [
    {
     "name": "stdout",
     "output_type": "stream",
     "text": [
      "Sure, here are the translations:\n",
      "\n",
      "For English to Korean:\n",
      "['Palestine received a universality invitation from FINA to send two top-ranked swimmers (one per gender) in their respective individual events to the Olympics, based on the FINA Points System of June 28, 2021.', 'The competition consists of two rounds: preliminaries and finals. The top 8 relay teams with the best preliminaries times advance to the finals. Swim-offs are used if necessary to break ties and advance to the next round.']\n",
      "\n",
      "- 파레스타인은 FINA로부터 종합 초청을 받았으며, 2021년 6월 28일 FINA 포인트 시스템 기준으로 각각 제공자와 여성에서 상위 순위 수영 선수 2명을 올림픽으로 보내기로 결심했다.\n",
      "- 이 대회는 예선과 결승 두 라운드로 구성됩니다. 예선 타임이 가장 좋은 상위 8개의 계주팀이 결승전으로 진행됩니다. 필요한 경우, 승부 조작과 같은 수영 대회가 사용되어 동점을 깨고 다음 라운드로 진행합니다.\n",
      "\n",
      "For Korean to English:\n",
      "['팔레스타인은 2021년 6월 28일 FINA 포인트 시스템을 기반으로 올림픽에서 각각 성별에 대한 최고 순위 수영 선수 2명 (1명당 1명)를 그들의 개인적인 이벤트로 보내기위해 FINA로부터 종합 초청을받았습니다.', '경기는 예선과 결승 두 라운드로 진행됩니다. 예선에서 가장 좋은 시간을 기록 한 상위 8 개의 계주 팀이 결승으로 진행됩니다. 필요한 경우 타이를 깨고 다음 라운드로 진행하기위한 수영 초반전이 사용됩니다.']\n",
      "\n",
      "- Palestine received a universality invitation from FINA to send two top-ranked swimmers (one per gender) in their respective individual events to the Olympics, based on the FINA Points System of June 28, 2021.\n",
      "- The competition consists of two rounds: preliminaries and finals. The top 8 relay teams with the best preliminaries times advance to the finals. Swim-offs are used if necessary to break ties and advance to the next round.\n",
      "\n",
      "For English to Spanish:\n",
      "['Palestine recibió una invitación de universalidad de FINA para enviar a dos nadadores de mayor rango (uno por género) en sus respectivos eventos individuales a los Juegos Olímpicos, basados en el Sistema de Puntos FINA del 28 de junio de 2021.', 'La competencia consta de dos rondas: preliminares y finales. Los 8 mejores equipos de relevo con los mejores tiempos de preliminares avanzan a las finales. Se utilizan desempates de natación si es necesario para romper empates y avanzar a la próxima ronda.']\n",
      "\n",
      "For Korean to Spanish:\n",
      "['Palestina recibió una invitación de universalidad de FINA para enviar dos nadadores de alto rango (uno por género) en sus eventos individuales respectivos a los Juegos Olímpicos, basados en el Sistema de Puntos FINA del 28 de junio de 2021. ', 'La competencia consta de dos rondas: preliminares y finales. Los ocho mejores equipos de relevo con los mejores tiempos de la preliminar avanzan a las finales. Se utilizan pruebas de natación si es necesario para romper empates y avanzar a la siguiente ronda. ']\n"
     ]
    }
   ],
   "source": [
    "# Escribe aquí el código para la tarea .\n",
    "\n",
    "messages = [\n",
    "    {'role': 'system', 'content': 'Eres un asistente de la empresa Oracle'},\n",
    "    {'role': 'user', 'content': 'Hola, mi nombre es Leo'},\n",
    "    {'role': 'assistant', 'content': \"Como puedo ayudarte?\"},\n",
    "    {'role': 'user', 'content': f'Necesito que traduzcas unos textos, necesito que ambos textos esten en ingles, y tambien en coreano. Como agregado extra tambien traduce ambos textos al español: {news}'}\n",
    "]\n",
    "\n",
    "response = get_completion_from_messages(messages, temperature=1)\n",
    "print(response)"
   ]
  },
  {
   "cell_type": "markdown",
   "metadata": {
    "nteract": {
     "transient": {
      "deleting": false
     }
    }
   },
   "source": [
    "#### Tarea para Estudiantes:\n",
    "Transformación de Tono\n",
    "\n",
    "La escritura puede variar según la audiencia objetivo. ChatGPT puede producir diferentes tonos. Transforma el siguiente mensaje en una carta de negocios."
   ]
  },
  {
   "cell_type": "code",
   "execution_count": null,
   "metadata": {
    "gather": {
     "logged": 1685082786641
    },
    "jupyter": {
     "outputs_hidden": false,
     "source_hidden": false
    },
    "nteract": {
     "transient": {
      "deleting": false
     }
    }
   },
   "outputs": [],
   "source": [
    "original_message = \"David, it's John! OMG, the Olympic game is so crazy\""
   ]
  },
  {
   "cell_type": "code",
   "execution_count": null,
   "metadata": {
    "jupyter": {
     "outputs_hidden": false,
     "source_hidden": false
    },
    "nteract": {
     "transient": {
      "deleting": false
     }
    }
   },
   "outputs": [
    {
     "name": "stdout",
     "output_type": "stream",
     "text": [
      "Estimado David,\n",
      "\n",
      "Espero que esta carta te encuentre bien. Quería escribirte para compartir mi emoción acerca de los Juegos Olímpicos. ¡Es increíble lo emocionante que son! \n",
      "\n",
      "Estaba viendo los eventos y pensé en ti y en cómo te gustaría estar aquí con nosotros. Este evento es una oportunidad única para agregar valor a nuestro negocio y forjar relaciones importantes. \n",
      "\n",
      "Espero que consideres seriamente la posibilidad de colaborar con nosotros en el futuro. ¡Los Juegos Olímpicos son una oportunidad única para hacer crecer nuestro negocio juntos!\n",
      "\n",
      "Sinceramente,\n",
      "John\n"
     ]
    }
   ],
   "source": [
    "# Escribe aquí el código para la tarea .\n",
    "\n",
    "messages = [\n",
    "    {'role': 'system', 'content': 'Eres un asistente de la empresa Oracle'},\n",
    "    {'role': 'user', 'content': 'Hola, mi nombre es Leo'},\n",
    "    {'role': 'assistant', 'content': \"Como puedo ayudarte?\"},\n",
    "    {'role': 'user', 'content': f'Podrias transformar el siguiente texto en una carta de negocios: {original_message}'}\n",
    "]\n",
    "\n",
    "response = get_completion_from_messages(messages, temperature=1)\n",
    "print(response)"
   ]
  },
  {
   "cell_type": "markdown",
   "metadata": {
    "nteract": {
     "transient": {
      "deleting": false
     }
    }
   },
   "source": [
    "#### Tarea para Estudiantes:\n",
    "Conversión de Formato\n",
    "\n",
    "ChatGPT puede traducir entre formatos. El prompt debe describir los formatos de entrada y salida. Convierte los siguientes datos JSON al formato HTML."
   ]
  },
  {
   "cell_type": "code",
   "execution_count": null,
   "metadata": {
    "gather": {
     "logged": 1685083768996
    },
    "jupyter": {
     "outputs_hidden": false,
     "source_hidden": false
    },
    "nteract": {
     "transient": {
      "deleting": false
     }
    }
   },
   "outputs": [],
   "source": [
    "data_json = { \"The 2020 Summer Olympics Opening Ceremony audience name list\" :[ \n",
    "    {\"name\":\"Shyam\", \"email\":\"shyamjaiswal@gmail.com\"},\n",
    "    {\"name\":\"Bob\", \"email\":\"bob32@gmail.com\"},\n",
    "    {\"name\":\"Jai\", \"email\":\"jai87@gmail.com\"}\n",
    "]}"
   ]
  },
  {
   "cell_type": "code",
   "execution_count": null,
   "metadata": {
    "jupyter": {
     "outputs_hidden": false,
     "source_hidden": false
    },
    "nteract": {
     "transient": {
      "deleting": false
     }
    }
   },
   "outputs": [
    {
     "name": "stdout",
     "output_type": "stream",
     "text": [
      "Claro, aquí te dejo el código HTML correspondiente a los datos en formato JSON que proporcionaste:\n",
      "\n",
      "```\n",
      "<!DOCTYPE html>\n",
      "<html>\n",
      "<head>\n",
      "\t<title>Opening Ceremony Audience List</title>\n",
      "</head>\n",
      "<body>\n",
      "\t<h1>The 2020 Summer Olympics Opening Ceremony audience name list:</h1>\n",
      "\t<ul>\n",
      "\t\t<li>Name: Shyam | Email: shyamjaiswal@gmail.com</li>\n",
      "\t\t<li>Name: Bob | Email: bob32@gmail.com</li>\n",
      "\t\t<li>Name: Jai | Email: jai87@gmail.com</li>\n",
      "\t</ul>\n",
      "</body>\n",
      "</html>\n",
      "```\n",
      "\n",
      "Espero que esta respuesta te sea de ayuda. Si necesitas algo más, no dudes en preguntar.\n"
     ]
    }
   ],
   "source": [
    "# Escribe aquí el código para la tarea .\n",
    "\n",
    "messages = [\n",
    "    {'role': 'system', 'content': 'Eres un asistente de la empresa Oracle'},\n",
    "    {'role': 'user', 'content': 'Hola, mi nombre es Leo'},\n",
    "    {'role': 'assistant', 'content': \"Como puedo ayudarte?\"},\n",
    "    {'role': 'user', 'content': f'Podrias transformar estos datos json a html: {data_json}'}\n",
    "]\n",
    "\n",
    "response = get_completion_from_messages(messages, temperature=1)\n",
    "print(response)"
   ]
  },
  {
   "cell_type": "markdown",
   "metadata": {
    "nteract": {
     "transient": {
      "deleting": false
     }
    }
   },
   "source": [
    "#### Tarea para Estudiantes:\n",
    "Revisión ortográfica y gramatical del siguiente texto.\n",
    "\n",
    "Para indicarle al modelo LLM que deseas que revise tu texto, instruye al modelo para que 'revise' o 'revise y corrija'."
   ]
  },
  {
   "cell_type": "code",
   "execution_count": null,
   "metadata": {
    "gather": {
     "logged": 1685084954682
    },
    "jupyter": {
     "outputs_hidden": false,
     "source_hidden": false
    },
    "nteract": {
     "transient": {
      "deleting": false
     }
    }
   },
   "outputs": [],
   "source": [
    "check_text = [ \n",
    "  \"Alongside the main Emblem blue, the five other colors use in the branding of the 2020 Games is : Kurenai red,   Ai blue,   Sakula pink,   Fuji purple, and   Matsuba green.\",\n",
    "  \"The competition have three round: heats, semifinals, and a final.\"\n",
    "]"
   ]
  },
  {
   "cell_type": "code",
   "execution_count": null,
   "metadata": {
    "jupyter": {
     "outputs_hidden": false,
     "source_hidden": false
    },
    "nteract": {
     "transient": {
      "deleting": false
     }
    }
   },
   "outputs": [
    {
     "name": "stdout",
     "output_type": "stream",
     "text": [
      "Sí, por supuesto. Aquí está el texto corregido:\n",
      "\n",
      "\"Alongside the main Emblem blue, the five other colors used in the branding of the 2020 Games are: Kurenai red, Ai blue, Sakurairo pink, Fuji purple, and Matsuba green. The competition has three rounds: heats, semifinals, and a final.\" \n",
      "\n",
      "Los cambios que realicé fueron:\n",
      "\n",
      "- Cambié \"use\" a \"used\", ya que se refiere a acciones pasadas.\n",
      "- Corregí el color \"Sakurairo\", que está escrito erróneamente como \"Sakula\".\n",
      "- Agregué el artículo \"the\" antes de \"heats\", ya que se refiere a una competición específica. \n",
      "\n",
      "Espero que esto te sea de ayuda. ¿Necesitas ayuda con algo más?\n"
     ]
    }
   ],
   "source": [
    "# Escribe aquí el código para la tarea .\n",
    "\n",
    "messages = [\n",
    "    {'role': 'system', 'content': 'Eres un asistente de la empresa Oracle'},\n",
    "    {'role': 'user', 'content': 'Hola, mi nombre es Leo'},\n",
    "    {'role': 'assistant', 'content': \"Como puedo ayudarte?\"},\n",
    "    {'role': 'user', 'content': f'Podrias revisar y corregir si el texto siguiente tiene alguna falla: {check_text}'}\n",
    "]\n",
    "\n",
    "response = get_completion_from_messages(messages, temperature=1)\n",
    "print(response)"
   ]
  },
  {
   "cell_type": "markdown",
   "metadata": {
    "nteract": {
     "transient": {
      "deleting": false
     }
    }
   },
   "source": [
    "#### Táctica 5: Ampliación: personaliza la respuesta automática"
   ]
  },
  {
   "cell_type": "markdown",
   "metadata": {
    "nteract": {
     "transient": {
      "deleting": false
     }
    }
   },
   "source": [
    "#### Tarea para Estudiantes:\n",
    "Personaliza la respuesta automática al siguiente correo electrónico de un cliente.\n",
    "\n",
    "El cliente tuvo un problema al comprar un boleto para los Juegos Olímpicos."
   ]
  },
  {
   "cell_type": "code",
   "execution_count": null,
   "metadata": {
    "gather": {
     "logged": 1685463156048
    },
    "jupyter": {
     "outputs_hidden": false,
     "source_hidden": false
    },
    "nteract": {
     "transient": {
      "deleting": false
     }
    }
   },
   "outputs": [],
   "source": [
    "# given the sentiment from the tactic on \"inferring\",\n",
    "# and the original customer message, customize the email\n",
    "sentiment = \"negative\"\n",
    "\n",
    "# review for a ticket transaction\n",
    "review = f\"\"\"\n",
    "I bought the ticket of \"Men's 100 metre freestyle swimming\" game last week.\\\n",
    "The transaction went through successfully. However, I still have not received the ticket.\\\n",
    "Over one week has passed.\\\n",
    "\"\"\""
   ]
  },
  {
   "cell_type": "code",
   "execution_count": null,
   "metadata": {
    "jupyter": {
     "outputs_hidden": false,
     "source_hidden": false
    },
    "nteract": {
     "transient": {
      "deleting": false
     }
    }
   },
   "outputs": [
    {
     "name": "stdout",
     "output_type": "stream",
     "text": [
      "Estimado/a [Nombre del destinatario],\n",
      "\n",
      "Mi nombre es Leo y me dirijo a usted con un sentimiento negativo debido a un problema que he tenido con la compra de una entrada para el juego de natación de los 100 metros estilo libre masculino.\n",
      "\n",
      "Realicé la transacción la semana pasada y todo parecía haberse procesado correctamente. Sin embargo, hasta el día de hoy, aún no he recibido la entrada correspondiente. Ya ha pasado más de una semana desde que realicé la compra y estoy muy preocupado por la situación.\n",
      "\n",
      "Me gustaría saber si hay algún problema con la entrega de las entradas o si hay algún retraso en el proceso. Espero que pueda ayudarme a resolver este problema lo antes posible.\n",
      "\n",
      "Agradezco de antemano su atención y espero su pronta respuesta.\n",
      "\n",
      "Atentamente,\n",
      "\n",
      "Leo.\n"
     ]
    }
   ],
   "source": [
    "# Escribe aquí el código para la tarea .\n",
    "\n",
    "def generar_correos_personalizados(sentiment, review, model= chat_model):\n",
    "    name = 'Leo'\n",
    "    messages = [{\n",
    "                 'role': 'user', \n",
    "                 'content': f'Necesito que personalices un correo, teniendo en cuenta lo siguiente: Mi nombre: {name}, El sentimiento: {sentiment} y el contenido del correo: {review}'}]\n",
    "    response = openai.ChatCompletion.create(\n",
    "        engine = model,\n",
    "        messages = messages,\n",
    "        temperature = 0,\n",
    "        max_tokens = 300\n",
    "    )\n",
    "\n",
    "    return response.choices[0].message['content']\n",
    "\n",
    "print(generar_correos_personalizados(sentiment, review))"
   ]
  },
  {
   "cell_type": "markdown",
   "metadata": {
    "nteract": {
     "transient": {
      "deleting": false
     }
    }
   },
   "source": [
    "#### Táctica 6: Chatbot: personalizar conversaciones para tareas o comportamientos específicos"
   ]
  },
  {
   "cell_type": "markdown",
   "metadata": {
    "nteract": {
     "transient": {
      "deleting": false
     }
    }
   },
   "source": [
    "#### Tarea para Estudiantes:\n",
    "Crear una conversación con el chatbot para saber dónde se celebraron los Juegos Olímpicos de Verano de 2020."
   ]
  },
  {
   "cell_type": "code",
   "execution_count": null,
   "metadata": {
    "jupyter": {
     "outputs_hidden": false,
     "source_hidden": false
    },
    "nteract": {
     "transient": {
      "deleting": false
     }
    }
   },
   "outputs": [
    {
     "name": "stdout",
     "output_type": "stream",
     "text": [
      "Los Juegos Olímpicos de Verano de 2020, que originalmente estaban programados para realizarse en 2020 pero se pospusieron debido a la pandemia de COVID-19, se llevaron a cabo en Tokio, Japón en el verano de 2021.\n"
     ]
    }
   ],
   "source": [
    "# Escribe aquí el código para la tarea .\n",
    "\n",
    "def generar_conversacion_personalizada(context, prompt, model= chat_model):\n",
    "    messages = [{'role': 'system', 'content': f'Eres un chatbot especializado en {context}'},{'role': 'user', 'content': f'{prompt}'}]\n",
    "    response = openai.ChatCompletion.create(\n",
    "        engine = model,\n",
    "        messages = messages,\n",
    "        temperature = 0,\n",
    "        max_tokens = 300\n",
    "    )\n",
    "\n",
    "    return response.choices[0].message['content']\n",
    "\n",
    "print(generar_conversacion_personalizada('Deportes','Donde se celebraron los juegos olimpicos de verano de 2020?'))"
   ]
  },
  {
   "cell_type": "markdown",
   "metadata": {
    "nteract": {
     "transient": {
      "deleting": false
     }
    }
   },
   "source": [
    "### 2.2 Dale tiempo al modelo para \"pensar\""
   ]
  },
  {
   "cell_type": "markdown",
   "metadata": {
    "nteract": {
     "transient": {
      "deleting": false
     }
    }
   },
   "source": [
    "#### Táctica 1: Especificar los pasos necesarios para completar una tarea\n",
    "A veces puedes ayudar al modelo a \"ralentizarse\" y ofrecer respuestas más robustas y detalladas especificando los pasos que debe seguir.\n",
    "\n",
    "Pidamos la salida en varios formatos especificados."
   ]
  },
  {
   "cell_type": "code",
   "execution_count": null,
   "metadata": {
    "gather": {
     "logged": 1685051679218
    },
    "jupyter": {
     "outputs_hidden": false,
     "source_hidden": false
    },
    "nteract": {
     "transient": {
      "deleting": false
     }
    }
   },
   "outputs": [
    {
     "data": {
      "text/plain": [
       "'<div>2020 Summer Olympics: Tokyo 2020</div>\\n\\nKeywords: Olympics, Tokyo, COVID-19, sports, medals\\n\\n<table>\\n  <tr>\\n    <th>Article Publishing Information</th>\\n    <th>Keywords</th>\\n  </tr>\\n  <tr>\\n    <td>Event Details</td>\\n    <td>Olympics, Tokyo, COVID-19</td>\\n  </tr>\\n  <tr>\\n    <td>New Events and Policies</td>\\n    <td>sports, IOC, policies</td>\\n  </tr>\\n  <tr>\\n    <td>Medal Count</td>\\n    <td>medals, gold, countries</td>\\n  </tr>\\n  <tr>\\n    <td>Expenses</td>\\n    <td>Tokyo, spending, billion</td>\\n  </tr>\\n  <tr>\\n    <td>Historical Significance</td>\\n    <td>Japan,'"
      ]
     },
     "execution_count": 35,
     "metadata": {},
     "output_type": "execute_result"
    }
   ],
   "source": [
    "prompt = f\"\"\"\n",
    "Your task is to help a journalist summarize information from the article for publication.\n",
    "\n",
    "Write a title based on the information provided in the context delimited by triple backticks. \n",
    "The title should be short, catchy, and reflective of the article's narrative.\n",
    "\n",
    "After the title, generate five keywords from the context.\n",
    "\n",
    "After the keywords, include a table to organize the information. \n",
    "The table should have two columns. In the first column is the title.\n",
    "In the second column include the keywords as a list.\n",
    "\n",
    "Give the table the title 'Article Publishing Information'.\n",
    "\n",
    "Format everything as HTML that can be used in a website.\n",
    "Place the title in a <div> element.\n",
    "\n",
    "Context: ```{text}\n",
    "\n",
    "\"\"\" \n",
    "\n",
    "get_chat_completion(prompt)"
   ]
  },
  {
   "cell_type": "markdown",
   "metadata": {},
   "source": []
  },
  {
   "cell_type": "markdown",
   "metadata": {
    "nteract": {
     "transient": {
      "deleting": false
     }
    }
   },
   "source": [
    "#### Táctica 2: Instruir al modelo para que desarrolle su propia solución\n",
    "\n",
    "Existen dos métodos principales que demostraremos en esta sección para lograr que el modelo resuelva un problema en lugar de apresurarse a una conclusión: cadena de pensamiento (chain-of-thought) y encadenamiento (chaining). Estas estrategias pueden llevar a una mayor precisión, detalle y la capacidad de resolver desafíos complejos.\n",
    "\n",
    "\n",
    "2.1 - Prompting de cadena de pensamiento (Chain-of-thought)\n",
    "- Pedir al modelo que razone\n",
    "- Ejemplo de un solo disparo (one-shot)\n",
    "- Razonamiento del chatbot\n",
    "\n",
    "2.2 - Encadenamiento (Chaining)\n",
    "\n",
    "Continuemos trabajando con el conjunto de datos de los Juegos Olímpicos."
   ]
  },
  {
   "cell_type": "markdown",
   "metadata": {
    "nteract": {
     "transient": {
      "deleting": false
     }
    }
   },
   "source": [
    "#### 2.2.1 Prompting de Cadena de Pensamiento (Chain-of-Thought Prompting)\n",
    "\n",
    "Hagamos un poco de matemáticas. Los modelos de GPT ocasionalmente no resuelven muy bien problemas matemáticos directos, así que guiemos al modelo a través del problema.\n",
    "\n",
    "Descomponemos las tareas en piezas más pequeñas.\n",
    "\n",
    "Lee más sobre los métodos y la investigación en el documento técnico: https://github.com/openai/openai-cookbook/blob/main/techniques_to_improve_reliability.md"
   ]
  },
  {
   "cell_type": "markdown",
   "metadata": {
    "nteract": {
     "transient": {
      "deleting": false
     }
    }
   },
   "source": [
    "#### Táctica 1: Puedes comenzar pidiéndole específicamente al modelo que piense paso a paso."
   ]
  },
  {
   "cell_type": "code",
   "execution_count": null,
   "metadata": {
    "gather": {
     "logged": 1685051978623
    },
    "jupyter": {
     "outputs_hidden": false,
     "source_hidden": false
    },
    "nteract": {
     "transient": {
      "deleting": false
     }
    }
   },
   "outputs": [
    {
     "data": {
      "text/plain": [
       "'Step 1: Identify the Olympic games held at Sydney\\nThe Olympic games held at Sydney were the 2000 Summer Olympics.\\n\\nStep 2: Identify the most decorated individual athlete\\nTo identify the most decorated individual athlete, we need to look at the medal count of all athletes who participated in the 2000 Summer Olympics. According to the official website of the International Olympic Committee (IOC), the medal count for the 2000 Summer Olympics can be found here: https://www.olympic.org/sydney-2000/medal-count.\\n\\nStep 3: Determine the athlete with the maximum medals\\nAfter reviewing the medal count, the athlete with the most medals at the 2000 Summer Olympics was Michael Phelps, who won 6 gold medals and 2 bronze medals in swimming events.\\n\\nTherefore, the ANSWER is: Michael Phelps.'"
      ]
     },
     "execution_count": 62,
     "metadata": {},
     "output_type": "execute_result"
    }
   ],
   "source": [
    "text = f\"\"\"\n",
    "    The 2020 Summer Olympics, officially the Games of the XXXII Olympiad and also known as Tokyo 2020, was an international multi-sport event held from 23 July to 8 August 2021 in Tokyo, Japan, with some preliminary events that began on 21 July 2021. Tokyo was selected as the host city during the 125th IOC Session in Buenos Aires, Argentina, on 7 September 2013.Originally scheduled to take place from 24 July to 9 August 2020, the event was postponed to 2021 on 24 March 2020 due to the global COVID-19 pandemic, the first such instance in the history of the Olympic Games (previous games had been cancelled but not rescheduled). However, the event retained the Tokyo 2020 branding for marketing purposes. It was largely held behind closed doors with no public spectators permitted due to the declaration of a state of emergency in the Greater Tokyo Area in response to the pandemic, the first and only Olympic Games to be held without official spectators. The Games were the most expensive ever, with total spending of over $20 billion.The Games were the fourth Olympic Games to be held in Japan, following the 1964 Summer Olympics (Tokyo), 1972 Winter Olympics (Sapporo), and 1998 Winter Olympics (Nagano). Tokyo became the first city in Asia to hold the Summer Olympic Games twice. The 2020 Games were the second of three consecutive Olympics to be held in East Asia, following the 2018 Winter Olympics in Pyeongchang, South Korea and preceding the 2022 Winter Olympics in Beijing, China. Due to the one-year postponement, Tokyo 2020 was the first and only Olympic Games to have been held in an odd-numbered year and the first Summer Olympics since 1900 to be held in a non-leap year.\\nNew events were introduced in existing sports, including 3x3 basketball, freestyle BMX and mixed gender team events in a number of existing sports, as well as the return of madison cycling for men and an introduction of the same event for women. New IOC policies also allowed the host organizing committee to add new sports to the Olympic program for just one Games. The disciplines added by the Japanese Olympic Committee were baseball and softball, karate, sport climbing, surfing and skateboarding, the last four of which made their Olympic debuts, and the last three of which will remain on the Olympic program.The United States topped the medal count by both total golds (39) and total medals (113), with China finishing second by both respects (38 and 89). Host nation Japan finished third, setting a record for the most gold medals and total medals ever won by their delegation at an Olympic Games with 27 and 58. Great Britain finished fourth, with a total of 22 gold and 64 medals. The Russian delegation competing as the ROC finished fifth with 20 gold medals and third in the overall medal count, with 71 medals. Bermuda, the Philippines and Qatar won their first-ever Olympic gold medals. Burkina Faso, San Marino and Turkmenistan also won their first-ever Olympic medals.'\n",
    "\"\"\"\n",
    "\n",
    "# From Azure documentation\n",
    "prompt = \"Who was the most decorated (maximum medals) individual athlete in the Olympic games that were held at Sydney? Take a step-by-step approach in your response, cite sources and give reasoning before sharing final answer in the below format: ANSWER is: <name>\"\n",
    "get_chat_completion(prompt)"
   ]
  },
  {
   "cell_type": "code",
   "execution_count": null,
   "metadata": {
    "jupyter": {
     "outputs_hidden": false,
     "source_hidden": false
    },
    "nteract": {
     "transient": {
      "deleting": false
     }
    }
   },
   "outputs": [
    {
     "data": {
      "text/plain": [
       "'To solve this problem, we need to identify the top two countries who won the most gold medals in the 2020 Tokyo Olympics. According to the context, the United States topped the medal count by both total golds (39) and total medals (113), with China finishing second by both respects (38 and 89). Therefore, the top two countries are the United States and China.\\n\\nNext, we need to determine the time zone difference between the United States and China. The United States has multiple time zones, but we can use the Eastern Time Zone as a reference since it is the most populous. The Eastern Time Zone is 13 hours behind China Standard Time (CST). Therefore, the largest time zone difference between the top two countries who won the most gold medals in the 2020 Tokyo Olympics is 13 hours.'"
      ]
     },
     "execution_count": 63,
     "metadata": {},
     "output_type": "execute_result"
    }
   ],
   "source": [
    "# Another example\n",
    "prompt = f\"\"\"\n",
    "What is the largest time zone difference is between the top two countries who \n",
    "won the most gold medals in the 2020 Tokyo olympics?\n",
    "\n",
    "Use the context below and think aloud as you solve the problem, step-by-step.\n",
    "\n",
    "Context: {text}\n",
    "\"\"\"\n",
    "get_chat_completion(prompt)"
   ]
  },
  {
   "cell_type": "markdown",
   "metadata": {
    "nteract": {
     "transient": {
      "deleting": false
     }
    }
   },
   "source": [
    "#### Táctica 2: Ejemplo de un solo disparo (One-shot)\n",
    "Otra táctica común es proporcionar un ejemplo de una consulta y una respuesta ideal. El modelo aprenderá de ese ejemplo y aplicará los patrones a una nueva pregunta."
   ]
  },
  {
   "cell_type": "code",
   "execution_count": null,
   "metadata": {
    "gather": {
     "logged": 1685053144682
    },
    "jupyter": {
     "outputs_hidden": false,
     "source_hidden": false
    },
    "nteract": {
     "transient": {
      "deleting": false
     }
    }
   },
   "outputs": [
    {
     "data": {
      "text/plain": [
       "'The United States has 74 medals that are not gold medals (113 total medals - 39 gold medals). \\n\\nGreat Britain has 42 medals that are not gold medals (64 total medals - 22 gold medals). \\n\\nTherefore, the United States has 32 more non-gold medals than Great Britain (74 - 42 = 32).'"
      ]
     },
     "execution_count": 64,
     "metadata": {},
     "output_type": "execute_result"
    }
   ],
   "source": [
    "# Notice how this response may not be ideal, or the most accurate.\n",
    "prompt = f\"\"\"\n",
    "    The United States has 113 total medals, 39 of which are gold medals. \n",
    "    \n",
    "    Great Britain has 64 medals and 22 gold medals. \n",
    "    \n",
    "    How many more silver and bronze medals does the United States have over Great Britain?\n",
    "\"\"\"\n",
    "\n",
    "get_chat_completion(prompt)"
   ]
  },
  {
   "cell_type": "code",
   "execution_count": null,
   "metadata": {
    "jupyter": {
     "outputs_hidden": false,
     "source_hidden": false
    },
    "nteract": {
     "transient": {
      "deleting": false
     }
    }
   },
   "outputs": [
    {
     "data": {
      "text/plain": [
       "'[Step 1] - There are three types of medals: gold, silver, and bronze\\n[Step 2] - We know the gold and total counts of medals, so the number of silver and bronze medals is the difference between the gold (38) and total (89) counts. \\n            89-38=51, so there are 51 silver and bronze medals combined. The answer is 51.'"
      ]
     },
     "execution_count": 65,
     "metadata": {},
     "output_type": "execute_result"
    }
   ],
   "source": [
    "# Give the model a one-shot example to solve the question more thoroughly\n",
    "\n",
    "prompt = f\"\"\"\n",
    "Question: The United States has 113 total medals, 39 of which are gold medals. How many medals are silver or bronze?\n",
    "Answer:\n",
    "[Step 1] - There are three types of medals: gold, silver, and bronze\n",
    "[Step 2] - We know the gold and total counts of medals, so the number of silver and bronze medals is the difference between the gold (39) and total (113) counts. \n",
    "            113-39=74, so there are 74 silver and bronze medals combined. The answer is 74.\n",
    "\n",
    "===\n",
    "\n",
    "Answer the following question using similar steps above.\n",
    "\n",
    "Question: China has 89 total medals, 38 of which are gold medals. How many silver and bronze medals do they have?\n",
    "Answer:\n",
    "\"\"\"\n",
    "\n",
    "get_chat_completion(prompt)"
   ]
  },
  {
   "cell_type": "markdown",
   "metadata": {
    "nteract": {
     "transient": {
      "deleting": false
     }
    }
   },
   "source": [
    "#### Táctica 3: Razonamiento de cadena de pensamiento del chatbot (chain-of-thought reasoning)\n",
    "Puedes incorporar lógica utilizando variables para que el chatbot pueda demostrar de manera dinámica formas específicas de pensar sobre un problema.\n",
    "\n",
    "**Para ingresar la información, aparecerá un cuadro de texto en la parte superior de la pantalla. Deberías ver una ventana emergente. Escribe 'quit' si quieres salir.**"
   ]
  },
  {
   "cell_type": "code",
   "execution_count": null,
   "metadata": {
    "jupyter": {
     "outputs_hidden": false,
     "source_hidden": false
    },
    "nteract": {
     "transient": {
      "deleting": false
     }
    }
   },
   "outputs": [
    {
     "name": "stdout",
     "output_type": "stream",
     "text": [
      "1\n",
      "\n",
      "Hello! I am a decision bot. What is the problem, scenario, or question you need help with?\n",
      "\n",
      "\n",
      "¡Genial! Vamos a ayudarte a tomar algunas decisiones para hacer una deliciosa pizza. Empecemos con la primera pregunta:\n",
      "\n",
      "¿Qué tipo de masa te gustaría hacer para tu pizza?\n",
      "\n",
      "4\n",
      "\n",
      "Entiendo, pero para clarificar, ¿te refieres a una masa de pizza con queso en la masa o una pizza con queso como ingrediente en la parte superior?\n",
      "\n",
      "6\n",
      "\n",
      "Lo siento, parece que no recibí una respuesta. ¿Podrías por favor aclarar si te refieres a una masa de pizza con queso en la masa o una pizza con queso como ingrediente en la parte superior?\n",
      "\n",
      "8\n",
      "\n",
      "¡Perfecto! Ahora que sabemos que quieres una pizza con queso como ingrediente en la parte superior, vamos a continuar con la siguiente pregunta:\n",
      "\n",
      "¿Qué tipo de queso te gustaría usar en tu pizza?\n",
      "\n",
      "10\n",
      "\n",
      "Lo siento, parece que hubo un malentendido. Mi pregunta anterior era sobre el tipo de queso que te gustaría usar en tu pizza. ¿Te gustaría usar queso mozzarella, cheddar, parmesano, o algún otro tipo de queso?\n",
      "\n",
      "12\n",
      "\n",
      "Lo siento, parece que no recibí una respuesta. ¿Podrías por favor aclarar qué tipo de queso te gustaría usar en tu pizza?\n",
      "\n",
      "14\n",
      "\n",
      "Entiendo, gracias por la aclaración. Ahora, para continuar con la siguiente pregunta:\n",
      "\n",
      "¿Qué ingredientes te gustaría agregar a tu pizza además del queso?\n",
      "\n",
      "16\n",
      "\n",
      "¡Genial! Ahora que sabemos que quieres agregar vegetales a tu pizza, vamos a continuar con la siguiente pregunta:\n",
      "\n",
      "¿Qué tipo de vegetales te gustaría agregar a tu pizza?\n",
      "\n",
      "18\n",
      "\n",
      "Entiendo, gracias por la aclaración. Ahora que sabemos que quieres agregar cualquier tipo de vegetales a tu pizza, vamos a continuar con la última pregunta:\n",
      "\n",
      "¿Te gustaría agregar alguna salsa a tu pizza, como salsa de tomate o salsa pesto?\n",
      "\n",
      "20\n",
      "\n",
      "Entiendo, gracias por la respuesta. Basado en tus respuestas, mi recomendación para hacer tu pizza sería la siguiente:\n",
      "\n",
      "1. Prepara la masa de pizza con queso como ingrediente en la masa.\n",
      "2. Agrega una capa de salsa de tomate o salsa pesto (opcional).\n",
      "3. Agrega una capa de queso mozzarella o el queso de tu elección.\n",
      "4. Agrega los vegetales de tu elección, como champiñones, pimientos, cebolla, tomate, etc.\n",
      "5. Hornea la pizza en un horno precalentado a 220°C durante 10-15 minutos o hasta que la masa esté dorada y el queso esté derretido.\n",
      "\n",
      "¡Espero que disfrutes tu deliciosa pizza!\n",
      "\n",
      "22\n",
      "\n",
      "¡De nada! Si necesitas ayuda en el futuro, no dudes en preguntar. ¡Que tengas un buen día!\n",
      "\n",
      "24\n",
      "\n",
      "¡Adiós!\n",
      "\n",
      "26\n"
     ]
    }
   ],
   "source": [
    "# Ask the bot to help you make a decision such as deciding whether to take a job or choose between restaurants.\n",
    "# If the model does not immediately respond to your query, wait 1-5 seconds and retype it.\n",
    "# If it is not allowing you to give an input, restart the kernel in the navigation bar.\n",
    "# Type \"quit\" to end the session\n",
    "\n",
    "context = '''\n",
    "        You are a decision bot. Your job is to help come to decision by asking a series of questions one at a time and coming to a reasonable decision based on the information provided.\n",
    "\n",
    "        You will use the following format to help create the series of questions.\n",
    "\n",
    "        Template: \n",
    "        [Problem/Scenario/Question]: [Provide a brief description of the problem, scenario, or question.]\n",
    "\n",
    "        Chain of thought:\n",
    "\n",
    "        [Step 1]: Identify the [key element/variable] in the [problem/scenario/question].\n",
    "        [Step 2]: Understand the [relationship/connection] between [element A] and [element B].\n",
    "        [Step 3]: [Analyze/Evaluate/Consider] the [context/implication] of the [relationship/connection] between [element A] and [element B].\n",
    "        [Step 4]: [Conclude/Decide/Determine] the [outcome/solution] based on the [analysis/evaluation/consideration] of [element A], [element B], and their [relationship/connection].\n",
    "        [Answer/Conclusion/Recommendation]: [Provide a coherent and logical response based on the chain of thought.]\n",
    "\n",
    "        You will guide the user though a series of questions one at a time. The first question is broad, and they subsequent questions become more specific. \n",
    "\n",
    "        Begin by introducing yourself and asking the first question (step 1) only and nothing else, in simple and easy way.\n",
    "        '''\n",
    "\n",
    "conversation=[{\"role\": \"system\", \"content\": context}]\n",
    "\n",
    "while(True):\n",
    "    print(len(conversation))\n",
    "    if len(conversation) == 1:\n",
    "        response = get_completion_from_messages(conversation)\n",
    "        conversation.append({\"role\": \"assistant\", \"content\": response})\n",
    "        print(\"\\n\" + response + \"\\n\")\n",
    "    \n",
    "    user_input = input('Enter your response: ')\n",
    "    if user_input.lower() == \"quit\":\n",
    "        break \n",
    "    conversation.append({\"role\": \"user\", \"content\": user_input})\n",
    "    \n",
    "    response = get_completion_from_messages(conversation)\n",
    "    conversation.append({\"role\": \"assistant\", \"content\": response})\n",
    "    print(\"\\n\" + response + \"\\n\")\n"
   ]
  },
  {
   "cell_type": "markdown",
   "metadata": {
    "nteract": {
     "transient": {
      "deleting": false
     }
    }
   },
   "source": [
    "#### 2.2.2 - Encadenamiento / Chaining\n",
    "Similar a algunos ejemplos anteriores, puedes usar las salidas del modelo de consultas anteriores en otras consultas. Más adelante en el Hack te mostraremos cómo hacer esto a escala."
   ]
  },
  {
   "cell_type": "code",
   "execution_count": 5,
   "metadata": {
    "gather": {
     "logged": 1685051679330
    },
    "jupyter": {
     "outputs_hidden": false,
     "source_hidden": false
    },
    "nteract": {
     "transient": {
      "deleting": false
     }
    }
   },
   "outputs": [
    {
     "name": "stdout",
     "output_type": "stream",
     "text": [
      "The 2020 Tokyo Olympics have come to an end, and the medal count has been tallied. The United States emerged as the clear winner, with a total of 113 medals, including 39 golds. China came in second with 89 medals, including 38 golds, while Japan took third place with 58 medals, including 27 golds.\n",
      "\n",
      "Great Britain and the Russian Olympic Committee (ROC) rounded out the top five, with 64 and 71 medals respectively. However, it's worth noting that the ROC's medal count was impacted by the fact that they were not allowed to compete under their own flag due to a doping scandal.\n",
      "\n",
      "While the top five countries dominated the medal count, there were also some surprising winners and losers. Bermuda, the Philippines, and Qatar all won their first-ever gold medals, while Burkina Faso failed to win any medals at all.\n",
      "\n",
      "Overall, the 2020 Olympics were a success for many countries, with athletes from around the\n",
      "world showcasing their talents and achieving their dreams. \"United States Dominates 2020 Olympics\"\n"
     ]
    }
   ],
   "source": [
    "# Extract medal counts for each country from the news article\n",
    "# Write an article about the summarized information\n",
    "# Provide a title for the summary\n",
    "\n",
    "text = f\"\"\"\n",
    "    The 2020 Summer Olympics, officially the Games of the XXXII Olympiad and also known as Tokyo 2020, was an international multi-sport event held from 23 July to 8 August 2021 in Tokyo, Japan, with some preliminary events that began on 21 July 2021. Tokyo was selected as the host city during the 125th IOC Session in Buenos Aires, Argentina, on 7 September 2013.Originally scheduled to take place from 24 July to 9 August 2020, the event was postponed to 2021 on 24 March 2020 due to the global COVID-19 pandemic, the first such instance in the history of the Olympic Games (previous games had been cancelled but not rescheduled). However, the event retained the Tokyo 2020 branding for marketing purposes. It was largely held behind closed doors with no public spectators permitted due to the declaration of a state of emergency in the Greater Tokyo Area in response to the pandemic, the first and only Olympic Games to be held without official spectators. The Games were the most expensive ever, with total spending of over $20 billion.The Games were the fourth Olympic Games to be held in Japan, following the 1964 Summer Olympics (Tokyo), 1972 Winter Olympics (Sapporo), and 1998 Winter Olympics (Nagano). Tokyo became the first city in Asia to hold the Summer Olympic Games twice. The 2020 Games were the second of three consecutive Olympics to be held in East Asia, following the 2018 Winter Olympics in Pyeongchang, South Korea and preceding the 2022 Winter Olympics in Beijing, China. Due to the one-year postponement, Tokyo 2020 was the first and only Olympic Games to have been held in an odd-numbered year and the first Summer Olympics since 1900 to be held in a non-leap year.\\nNew events were introduced in existing sports, including 3x3 basketball, freestyle BMX and mixed gender team events in a number of existing sports, as well as the return of madison cycling for men and an introduction of the same event for women. New IOC policies also allowed the host organizing committee to add new sports to the Olympic program for just one Games. The disciplines added by the Japanese Olympic Committee were baseball and softball, karate, sport climbing, surfing and skateboarding, the last four of which made their Olympic debuts, and the last three of which will remain on the Olympic program.The United States topped the medal count by both total golds (39) and total medals (113), with China finishing second by both respects (38 and 89). Host nation Japan finished third, setting a record for the most gold medals and total medals ever won by their delegation at an Olympic Games with 27 and 58. Great Britain finished fourth, with a total of 22 gold and 64 medals. The Russian delegation competing as the ROC finished fifth with 20 gold medals and third in the overall medal count, with 71 medals. Bermuda, the Philippines and Qatar won their first-ever Olympic gold medals. Burkina Faso, San Marino and Turkmenistan also won their first-ever Olympic medals.'\n",
    "\"\"\"\n",
    "\n",
    "prompt = f\"\"\"\n",
    "    Based on the context below, write a JSON object that contains the number of gold and total medals for each country.\n",
    "    Context: {text}\n",
    "\"\"\"\n",
    "num_medals_dict = get_chat_completion(prompt)\n",
    "\n",
    "prompt = f\"\"\"\n",
    "    Write a brief article about the winners and losers of the Olympics based on medal count:\n",
    "    {num_medals_dict}\n",
    "\"\"\"\n",
    "summary = get_chat_completion(prompt)\n",
    "print(summary)\n",
    "\n",
    "prompt = f\"\"\"\n",
    "    Give the summary a title in 5 words:\n",
    "    {summary}\n",
    "\"\"\"\n",
    "title = get_chat_completion(prompt)\n",
    "print(title)"
   ]
  },
  {
   "cell_type": "markdown",
   "metadata": {
    "nteract": {
     "transient": {
      "deleting": false
     }
    }
   },
   "source": [
    "#### Tarea para Estudiantes (Encadenamiento / Chaining):\n",
    "\n",
    "Tu tarea ahora es escribir código que determine el país que ganó la mayor cantidad de medallas de plata y bronce combinadas.\n",
    "\n",
    "Podemos ver que el modelo tiene un rendimiento deficiente al responder la pregunta directamente."
   ]
  },
  {
   "cell_type": "code",
   "execution_count": 6,
   "metadata": {
    "gather": {
     "logged": 1685053948700
    },
    "jupyter": {
     "outputs_hidden": false,
     "source_hidden": false
    },
    "nteract": {
     "transient": {
      "deleting": false
     }
    }
   },
   "outputs": [
    {
     "data": {
      "text/plain": [
       "'The context does not provide information on which country had the most silver and bronze medals.'"
      ]
     },
     "execution_count": 6,
     "metadata": {},
     "output_type": "execute_result"
    }
   ],
   "source": [
    "prompt = f\"\"\"\n",
    "    Based on the context, which country had the most silver and bronze medals?\n",
    "    Context: {text}\n",
    "\"\"\"\n",
    "\n",
    "get_chat_completion(prompt)"
   ]
  },
  {
   "cell_type": "markdown",
   "metadata": {
    "nteract": {
     "transient": {
      "deleting": false
     }
    }
   },
   "source": [
    "Escribe prompts en la celda a continuación que ayudarán al modelo a responder la pregunta desglosando las tareas en diferentes pasos. Asegúrate de que responda solo con la información que se le proporcionó. Este concepto de fundamentación se presentará con más detalle en el Reto 3.\n",
    "\n",
    "Deberías poder lograr que el modelo responda la pregunta en 2-3 pasos."
   ]
  },
  {
   "cell_type": "code",
   "execution_count": 19,
   "metadata": {
    "jupyter": {
     "outputs_hidden": false,
     "source_hidden": false
    },
    "nteract": {
     "transient": {
      "deleting": false
     }
    }
   },
   "outputs": [
    {
     "data": {
      "text/plain": [
       "'El país que ha ganado el mayor número de medallas de plata y bronce combinadas es Gran Bretaña, con un total de 42 medallas (21 de plata y 21 de bronce).'"
      ]
     },
     "execution_count": 19,
     "metadata": {},
     "output_type": "execute_result"
    }
   ],
   "source": [
    "# Escribe aquí el código para la tarea .\n",
    "\n",
    "prompt = f'En el siguiente texto: {text}, necesito que hagas un listado de cada pais con el numero de medallas que gano.'\n",
    "\n",
    "informacion = get_chat_completion(prompt)\n",
    "\n",
    "prompt = f'Con esta informacion: {informacion}, solo necesito que filtres a un solo pais, ese pais debe de ser el que mayor numero de medallas de plata y bronce combianadas ha ganado.'\n",
    "\n",
    "get_chat_completion(prompt)\n"
   ]
  },
  {
   "cell_type": "markdown",
   "metadata": {},
   "source": [
    "## Conclusión\n",
    "\n",
    "En este primer desafío, cubrimos cómo interactuar con Azure OpenAI para diferentes objetivos. Esperamos que hayas podido ver la versatilidad dinámica de los modelos y cómo pueden usarse para resolver una variedad de problemas utilizando diferentes técnicas.\n",
    "\n",
    "Le dimos a la API piezas cortas de texto usando variables fijas. En el próximo conjunto de desafíos, verás cómo usar la API con conjuntos de datos más grandes."
   ]
  }
 ],
 "metadata": {
  "kernel_info": {
   "name": "python38-azureml"
  },
  "kernelspec": {
   "display_name": "Python 3",
   "language": "python",
   "name": "python3"
  },
  "language_info": {
   "codemirror_mode": {
    "name": "ipython",
    "version": 3
   },
   "file_extension": ".py",
   "mimetype": "text/x-python",
   "name": "python",
   "nbconvert_exporter": "python",
   "pygments_lexer": "ipython3",
   "version": "3.12.1"
  },
  "microsoft": {
   "host": {
    "AzureML": {
     "notebookHasBeenCompleted": true
    }
   },
   "ms_spell_check": {
    "ms_spell_check_language": "en"
   }
  },
  "nteract": {
   "version": "nteract-front-end@1.0.0"
  }
 },
 "nbformat": 4,
 "nbformat_minor": 2
}
